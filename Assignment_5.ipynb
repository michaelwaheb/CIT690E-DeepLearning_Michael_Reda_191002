{
  "nbformat": 4,
  "nbformat_minor": 0,
  "metadata": {
    "accelerator": "GPU",
    "colab": {
      "name": "Assignment_5.ipynb",
      "provenance": [],
      "collapsed_sections": [],
      "include_colab_link": true
    },
    "kernelspec": {
      "display_name": "Python 3",
      "name": "python3"
    },
    "language_info": {
      "name": "python"
    },
    "widgets": {
      "application/vnd.jupyter.widget-state+json": {
        "335234879ca044099b8342f332344ab6": {
          "model_module": "@jupyter-widgets/controls",
          "model_name": "HBoxModel",
          "model_module_version": "1.5.0",
          "state": {
            "_view_name": "HBoxView",
            "_dom_classes": [],
            "_model_name": "HBoxModel",
            "_view_module": "@jupyter-widgets/controls",
            "_model_module_version": "1.5.0",
            "_view_count": null,
            "_view_module_version": "1.5.0",
            "box_style": "",
            "layout": "IPY_MODEL_c0ed22cf7a9c44d28c4b00f99b00ed91",
            "_model_module": "@jupyter-widgets/controls",
            "children": [
              "IPY_MODEL_413ee8e9aca84322841bb66795323e8b",
              "IPY_MODEL_50139036d57c414d81fc36af0f610f52",
              "IPY_MODEL_760c3b60c4a74f358e796476b185ba96"
            ]
          }
        },
        "c0ed22cf7a9c44d28c4b00f99b00ed91": {
          "model_module": "@jupyter-widgets/base",
          "model_name": "LayoutModel",
          "model_module_version": "1.2.0",
          "state": {
            "_view_name": "LayoutView",
            "grid_template_rows": null,
            "right": null,
            "justify_content": null,
            "_view_module": "@jupyter-widgets/base",
            "overflow": null,
            "_model_module_version": "1.2.0",
            "_view_count": null,
            "flex_flow": null,
            "width": null,
            "min_width": null,
            "border": null,
            "align_items": null,
            "bottom": null,
            "_model_module": "@jupyter-widgets/base",
            "top": null,
            "grid_column": null,
            "overflow_y": null,
            "overflow_x": null,
            "grid_auto_flow": null,
            "grid_area": null,
            "grid_template_columns": null,
            "flex": null,
            "_model_name": "LayoutModel",
            "justify_items": null,
            "grid_row": null,
            "max_height": null,
            "align_content": null,
            "visibility": null,
            "align_self": null,
            "height": null,
            "min_height": null,
            "padding": null,
            "grid_auto_rows": null,
            "grid_gap": null,
            "max_width": null,
            "order": null,
            "_view_module_version": "1.2.0",
            "grid_template_areas": null,
            "object_position": null,
            "object_fit": null,
            "grid_auto_columns": null,
            "margin": null,
            "display": null,
            "left": null
          }
        },
        "413ee8e9aca84322841bb66795323e8b": {
          "model_module": "@jupyter-widgets/controls",
          "model_name": "HTMLModel",
          "model_module_version": "1.5.0",
          "state": {
            "_view_name": "HTMLView",
            "style": "IPY_MODEL_67da72515f094da280dd11e18cc0fc3d",
            "_dom_classes": [],
            "description": "",
            "_model_name": "HTMLModel",
            "placeholder": "​",
            "_view_module": "@jupyter-widgets/controls",
            "_model_module_version": "1.5.0",
            "value": "",
            "_view_count": null,
            "_view_module_version": "1.5.0",
            "description_tooltip": null,
            "_model_module": "@jupyter-widgets/controls",
            "layout": "IPY_MODEL_e935235cb5924bba8abcc903289cee7c"
          }
        },
        "50139036d57c414d81fc36af0f610f52": {
          "model_module": "@jupyter-widgets/controls",
          "model_name": "FloatProgressModel",
          "model_module_version": "1.5.0",
          "state": {
            "_view_name": "ProgressView",
            "style": "IPY_MODEL_53c2522adefe47f48a9dd23741d0fd0d",
            "_dom_classes": [],
            "description": "",
            "_model_name": "FloatProgressModel",
            "bar_style": "success",
            "max": 170498071,
            "_view_module": "@jupyter-widgets/controls",
            "_model_module_version": "1.5.0",
            "value": 170498071,
            "_view_count": null,
            "_view_module_version": "1.5.0",
            "orientation": "horizontal",
            "min": 0,
            "description_tooltip": null,
            "_model_module": "@jupyter-widgets/controls",
            "layout": "IPY_MODEL_b5f6bd70fb5445afac768b9ad776dbcf"
          }
        },
        "760c3b60c4a74f358e796476b185ba96": {
          "model_module": "@jupyter-widgets/controls",
          "model_name": "HTMLModel",
          "model_module_version": "1.5.0",
          "state": {
            "_view_name": "HTMLView",
            "style": "IPY_MODEL_9c899e5f588c49c3b38fcc2e465f4ba5",
            "_dom_classes": [],
            "description": "",
            "_model_name": "HTMLModel",
            "placeholder": "​",
            "_view_module": "@jupyter-widgets/controls",
            "_model_module_version": "1.5.0",
            "value": " 170499072/? [00:06&lt;00:00, 30605477.24it/s]",
            "_view_count": null,
            "_view_module_version": "1.5.0",
            "description_tooltip": null,
            "_model_module": "@jupyter-widgets/controls",
            "layout": "IPY_MODEL_5e407ead73464d57be8b0a7df015d60a"
          }
        },
        "67da72515f094da280dd11e18cc0fc3d": {
          "model_module": "@jupyter-widgets/controls",
          "model_name": "DescriptionStyleModel",
          "model_module_version": "1.5.0",
          "state": {
            "_view_name": "StyleView",
            "_model_name": "DescriptionStyleModel",
            "description_width": "",
            "_view_module": "@jupyter-widgets/base",
            "_model_module_version": "1.5.0",
            "_view_count": null,
            "_view_module_version": "1.2.0",
            "_model_module": "@jupyter-widgets/controls"
          }
        },
        "e935235cb5924bba8abcc903289cee7c": {
          "model_module": "@jupyter-widgets/base",
          "model_name": "LayoutModel",
          "model_module_version": "1.2.0",
          "state": {
            "_view_name": "LayoutView",
            "grid_template_rows": null,
            "right": null,
            "justify_content": null,
            "_view_module": "@jupyter-widgets/base",
            "overflow": null,
            "_model_module_version": "1.2.0",
            "_view_count": null,
            "flex_flow": null,
            "width": null,
            "min_width": null,
            "border": null,
            "align_items": null,
            "bottom": null,
            "_model_module": "@jupyter-widgets/base",
            "top": null,
            "grid_column": null,
            "overflow_y": null,
            "overflow_x": null,
            "grid_auto_flow": null,
            "grid_area": null,
            "grid_template_columns": null,
            "flex": null,
            "_model_name": "LayoutModel",
            "justify_items": null,
            "grid_row": null,
            "max_height": null,
            "align_content": null,
            "visibility": null,
            "align_self": null,
            "height": null,
            "min_height": null,
            "padding": null,
            "grid_auto_rows": null,
            "grid_gap": null,
            "max_width": null,
            "order": null,
            "_view_module_version": "1.2.0",
            "grid_template_areas": null,
            "object_position": null,
            "object_fit": null,
            "grid_auto_columns": null,
            "margin": null,
            "display": null,
            "left": null
          }
        },
        "53c2522adefe47f48a9dd23741d0fd0d": {
          "model_module": "@jupyter-widgets/controls",
          "model_name": "ProgressStyleModel",
          "model_module_version": "1.5.0",
          "state": {
            "_view_name": "StyleView",
            "_model_name": "ProgressStyleModel",
            "description_width": "",
            "_view_module": "@jupyter-widgets/base",
            "_model_module_version": "1.5.0",
            "_view_count": null,
            "_view_module_version": "1.2.0",
            "bar_color": null,
            "_model_module": "@jupyter-widgets/controls"
          }
        },
        "b5f6bd70fb5445afac768b9ad776dbcf": {
          "model_module": "@jupyter-widgets/base",
          "model_name": "LayoutModel",
          "model_module_version": "1.2.0",
          "state": {
            "_view_name": "LayoutView",
            "grid_template_rows": null,
            "right": null,
            "justify_content": null,
            "_view_module": "@jupyter-widgets/base",
            "overflow": null,
            "_model_module_version": "1.2.0",
            "_view_count": null,
            "flex_flow": null,
            "width": null,
            "min_width": null,
            "border": null,
            "align_items": null,
            "bottom": null,
            "_model_module": "@jupyter-widgets/base",
            "top": null,
            "grid_column": null,
            "overflow_y": null,
            "overflow_x": null,
            "grid_auto_flow": null,
            "grid_area": null,
            "grid_template_columns": null,
            "flex": null,
            "_model_name": "LayoutModel",
            "justify_items": null,
            "grid_row": null,
            "max_height": null,
            "align_content": null,
            "visibility": null,
            "align_self": null,
            "height": null,
            "min_height": null,
            "padding": null,
            "grid_auto_rows": null,
            "grid_gap": null,
            "max_width": null,
            "order": null,
            "_view_module_version": "1.2.0",
            "grid_template_areas": null,
            "object_position": null,
            "object_fit": null,
            "grid_auto_columns": null,
            "margin": null,
            "display": null,
            "left": null
          }
        },
        "9c899e5f588c49c3b38fcc2e465f4ba5": {
          "model_module": "@jupyter-widgets/controls",
          "model_name": "DescriptionStyleModel",
          "model_module_version": "1.5.0",
          "state": {
            "_view_name": "StyleView",
            "_model_name": "DescriptionStyleModel",
            "description_width": "",
            "_view_module": "@jupyter-widgets/base",
            "_model_module_version": "1.5.0",
            "_view_count": null,
            "_view_module_version": "1.2.0",
            "_model_module": "@jupyter-widgets/controls"
          }
        },
        "5e407ead73464d57be8b0a7df015d60a": {
          "model_module": "@jupyter-widgets/base",
          "model_name": "LayoutModel",
          "model_module_version": "1.2.0",
          "state": {
            "_view_name": "LayoutView",
            "grid_template_rows": null,
            "right": null,
            "justify_content": null,
            "_view_module": "@jupyter-widgets/base",
            "overflow": null,
            "_model_module_version": "1.2.0",
            "_view_count": null,
            "flex_flow": null,
            "width": null,
            "min_width": null,
            "border": null,
            "align_items": null,
            "bottom": null,
            "_model_module": "@jupyter-widgets/base",
            "top": null,
            "grid_column": null,
            "overflow_y": null,
            "overflow_x": null,
            "grid_auto_flow": null,
            "grid_area": null,
            "grid_template_columns": null,
            "flex": null,
            "_model_name": "LayoutModel",
            "justify_items": null,
            "grid_row": null,
            "max_height": null,
            "align_content": null,
            "visibility": null,
            "align_self": null,
            "height": null,
            "min_height": null,
            "padding": null,
            "grid_auto_rows": null,
            "grid_gap": null,
            "max_width": null,
            "order": null,
            "_view_module_version": "1.2.0",
            "grid_template_areas": null,
            "object_position": null,
            "object_fit": null,
            "grid_auto_columns": null,
            "margin": null,
            "display": null,
            "left": null
          }
        }
      }
    }
  },
  "cells": [
    {
      "cell_type": "markdown",
      "metadata": {
        "id": "view-in-github",
        "colab_type": "text"
      },
      "source": [
        "<a href=\"https://colab.research.google.com/github/michaelwaheb/CIT690E-DeepLearning_Michael_Reda_191002/blob/main/Assignment_5.ipynb\" target=\"_parent\"><img src=\"https://colab.research.google.com/assets/colab-badge.svg\" alt=\"Open In Colab\"/></a>"
      ]
    },
    {
      "cell_type": "markdown",
      "metadata": {
        "id": "rbJRzY1l6Ixv"
      },
      "source": [
        "Q1) Write a Python Colab Notebook: Use CIFAR-10 dataset and ResNet20, ResNet-32, ResNet-44 and ResNet-56 architectures in Pytorch to compute the\n",
        "classification error and the number of parameters of each architecture as reported in\n",
        "Table 6 of the following paper:\n",
        "• He, Kaiming, Xiangyu Zhang, Shaoqing Ren, and Jian Sun. \"Deep residual learning for image\n",
        "recognition.\" In Proceedings of the IEEE CVPR 2016.\n",
        "• Please note you should train your models on CIFAR-10 training set from scratch using the\n",
        "instructions given in the above paper and in particular Section 4.2 and Figure 3."
      ]
    },
    {
      "cell_type": "markdown",
      "source": [
        "## Imports"
      ],
      "metadata": {
        "id": "0naG27s-AVsk"
      }
    },
    {
      "cell_type": "code",
      "metadata": {
        "id": "rYkVbmmY56G2"
      },
      "source": [
        "import torch\n",
        "import torch.nn as nn\n",
        "from torchvision import transforms\n",
        "import torchvision.datasets as datasets\n",
        "import matplotlib.pyplot as plt\n",
        "import numpy as np\n",
        "import pandas as pd"
      ],
      "execution_count": 1,
      "outputs": []
    },
    {
      "cell_type": "markdown",
      "source": [
        "## device"
      ],
      "metadata": {
        "id": "aGtCuqh0AZV_"
      }
    },
    {
      "cell_type": "code",
      "metadata": {
        "id": "uE8XE2847YwS"
      },
      "source": [
        "device = torch.device(\"cuda\" if torch.cuda.is_available() else \"cpu\")"
      ],
      "execution_count": 2,
      "outputs": []
    },
    {
      "cell_type": "markdown",
      "source": [
        "## Hyper-parameters\n"
      ],
      "metadata": {
        "id": "0SI1HVthArj0"
      }
    },
    {
      "cell_type": "code",
      "metadata": {
        "id": "h180D_ABMnLP"
      },
      "source": [
        "num_epochs = 80\n",
        "batch_size = 128\n",
        "learning_rate = 0.1\n",
        "momentum = 0.9"
      ],
      "execution_count": 3,
      "outputs": []
    },
    {
      "cell_type": "markdown",
      "metadata": {
        "id": "b4i4okad7L75"
      },
      "source": [
        "## Load the dataset CIFAR-10"
      ]
    },
    {
      "cell_type": "code",
      "metadata": {
        "colab": {
          "base_uri": "https://localhost:8080/",
          "height": 104,
          "referenced_widgets": [
            "335234879ca044099b8342f332344ab6",
            "c0ed22cf7a9c44d28c4b00f99b00ed91",
            "413ee8e9aca84322841bb66795323e8b",
            "50139036d57c414d81fc36af0f610f52",
            "760c3b60c4a74f358e796476b185ba96",
            "67da72515f094da280dd11e18cc0fc3d",
            "e935235cb5924bba8abcc903289cee7c",
            "53c2522adefe47f48a9dd23741d0fd0d",
            "b5f6bd70fb5445afac768b9ad776dbcf",
            "9c899e5f588c49c3b38fcc2e465f4ba5",
            "5e407ead73464d57be8b0a7df015d60a"
          ]
        },
        "id": "CJlAGqGa7LDF",
        "outputId": "8c34440d-87c2-4ae9-dfd3-26e6b34c3c9d"
      },
      "source": [
        "cifer10_trainset = datasets.CIFAR10(root='./data', train=True, download=True, transform=transforms.Compose([transforms.ToTensor()]))\n",
        "cifer10_testset = datasets.CIFAR10(root='./data', train=False, download=True, transform=transforms.Compose([transforms.ToTensor()]))"
      ],
      "execution_count": 4,
      "outputs": [
        {
          "output_type": "stream",
          "name": "stdout",
          "text": [
            "Downloading https://www.cs.toronto.edu/~kriz/cifar-10-python.tar.gz to ./data/cifar-10-python.tar.gz\n"
          ]
        },
        {
          "output_type": "display_data",
          "data": {
            "application/vnd.jupyter.widget-view+json": {
              "model_id": "335234879ca044099b8342f332344ab6",
              "version_minor": 0,
              "version_major": 2
            },
            "text/plain": [
              "  0%|          | 0/170498071 [00:00<?, ?it/s]"
            ]
          },
          "metadata": {}
        },
        {
          "output_type": "stream",
          "name": "stdout",
          "text": [
            "Extracting ./data/cifar-10-python.tar.gz to ./data\n",
            "Files already downloaded and verified\n"
          ]
        }
      ]
    },
    {
      "cell_type": "markdown",
      "source": [
        "## Train loader"
      ],
      "metadata": {
        "id": "YUwOd83SAgRF"
      }
    },
    {
      "cell_type": "code",
      "metadata": {
        "id": "5FX3Ne5p8MSW",
        "colab": {
          "base_uri": "https://localhost:8080/"
        },
        "outputId": "4ba13686-587e-406d-ac88-a1b887a6a162"
      },
      "source": [
        "train_dataloader = torch.utils.data.DataLoader(cifer10_trainset, batch_size=batch_size, shuffle=True)\n",
        "test_dataloader = torch.utils.data.DataLoader(cifer10_testset, batch_size=batch_size, shuffle=False)\n",
        "\n",
        "print(\"Training dataset size: \", len(cifer10_trainset))\n",
        "print(\"Testing dataset size: \", len(cifer10_testset))"
      ],
      "execution_count": 5,
      "outputs": [
        {
          "output_type": "stream",
          "name": "stdout",
          "text": [
            "Training dataset size:  50000\n",
            "Testing dataset size:  10000\n"
          ]
        }
      ]
    },
    {
      "cell_type": "markdown",
      "metadata": {
        "id": "1QGEuLE8D7GP"
      },
      "source": [
        "## Resnet Model "
      ]
    },
    {
      "cell_type": "code",
      "metadata": {
        "id": "0tS5YM70KQa8"
      },
      "source": [
        "# 3x3 convolution\n",
        "def conv3x3(in_channels, out_channels, stride=1):\n",
        "    return nn.Conv2d(in_channels, out_channels, kernel_size=3, \n",
        "                     stride=stride, padding=1, bias=False)\n",
        "\n",
        "# Residual block\n",
        "class ResidualBlock(nn.Module):\n",
        "    def __init__(self, in_channels, out_channels, stride=1, downsample=None):\n",
        "        super(ResidualBlock, self).__init__()\n",
        "        self.conv1 = conv3x3(in_channels, out_channels, stride)\n",
        "        self.bn1 = nn.BatchNorm2d(out_channels)\n",
        "        self.relu = nn.ReLU(inplace=True)\n",
        "        self.conv2 = conv3x3(out_channels, out_channels)\n",
        "        self.bn2 = nn.BatchNorm2d(out_channels)\n",
        "        self.downsample = downsample\n",
        "      \n",
        "\n",
        "\n",
        "    def forward(self, x):\n",
        "        residual = x\n",
        "        out = self.conv1(x)\n",
        "        out = self.bn1(out)\n",
        "        out = self.relu(out)\n",
        "        out = self.conv2(out)\n",
        "        out = self.bn2(out)\n",
        "        if self.downsample:\n",
        "            residual = self.downsample(x)\n",
        "        out += residual\n",
        "        out = self.relu(out)\n",
        "        return out\n",
        "\n",
        "# ResNet\n",
        "class ResNet(nn.Module):\n",
        "    def __init__(self, block, layers, num_classes=10):\n",
        "        super(ResNet, self).__init__()\n",
        "        self.in_channels = 16\n",
        "        self.conv = conv3x3(3, 16)\n",
        "        self.bn = nn.BatchNorm2d(16)\n",
        "        self.relu = nn.ReLU(inplace=True)\n",
        "        self.layer1 = self.make_layer(block, 16, layers[0])\n",
        "        self.layer2 = self.make_layer(block, 32, layers[1], 2)\n",
        "        self.layer3 = self.make_layer(block, 64, layers[2], 2)\n",
        "        self.avg_pool = nn.AvgPool2d(8)\n",
        "        self.fc = nn.Linear(64, num_classes)\n",
        "        \n",
        "    def make_layer(self, block, out_channels, blocks, stride=1):\n",
        "        downsample = None\n",
        "        if (stride != 1) or (self.in_channels != out_channels):\n",
        "            downsample = nn.Sequential(\n",
        "                conv3x3(self.in_channels, out_channels, stride=stride),\n",
        "                nn.BatchNorm2d(out_channels))\n",
        "        layers = []\n",
        "        layers.append(block(self.in_channels, out_channels, stride, downsample))\n",
        "        self.in_channels = out_channels\n",
        "        for i in range(1, blocks):\n",
        "            layers.append(block(out_channels, out_channels))\n",
        "        return nn.Sequential(*layers)\n",
        "    \n",
        "    def forward(self, x):\n",
        "        out = self.conv(x)\n",
        "        out = self.bn(out)\n",
        "        out = self.relu(out)\n",
        "        out = self.layer1(out)\n",
        "        out = self.layer2(out)\n",
        "        out = self.layer3(out)\n",
        "        out = self.avg_pool(out)\n",
        "        out = out.view(out.size(0), -1)\n",
        "        out = self.fc(out)\n",
        "        return out\n",
        "    "
      ],
      "execution_count": null,
      "outputs": []
    },
    {
      "cell_type": "markdown",
      "source": [
        "## Plain net"
      ],
      "metadata": {
        "id": "2KnkGqhdO309"
      }
    },
    {
      "cell_type": "code",
      "metadata": {
        "id": "m6zlaiAYOZ_c"
      },
      "source": [
        "# 3x3 convolution\n",
        "def conv3x3(in_channels, out_channels, stride=1):\n",
        "    return nn.Conv2d(in_channels, out_channels, kernel_size=3, \n",
        "                     stride=stride, padding=1, bias=False)\n",
        "\n",
        "# Residual block\n",
        "class PlaiBlock(nn.Module):\n",
        "    def __init__(self, in_channels, out_channels, stride=1, downsample=None):\n",
        "        super(PlaiBlock, self).__init__()\n",
        "        self.conv1 = conv3x3(in_channels, out_channels, stride)\n",
        "        self.bn1 = nn.BatchNorm2d(out_channels)\n",
        "        self.relu = nn.ReLU(inplace=True)\n",
        "        self.conv2 = conv3x3(out_channels, out_channels)\n",
        "        self.bn2 = nn.BatchNorm2d(out_channels)\n",
        "        self.downsample = downsample\n",
        "    \n",
        "\n",
        "    def forward(self, x):\n",
        "        residual = x\n",
        "        out = self.conv1(x)\n",
        "        out = self.bn1(out)\n",
        "        out = self.relu(out)\n",
        "        out = self.conv2(out)\n",
        "        out = self.bn2(out)\n",
        "        if self.downsample:\n",
        "            residual = self.downsample(x)\n",
        "    \n",
        "        out = self.relu(out)\n",
        "        return out\n",
        "\n",
        "# ResNet\n",
        "class PlainNet(nn.Module):\n",
        "    def __init__(self, block, layers, num_classes=10):\n",
        "        super(PlainNet, self).__init__()\n",
        "        self.in_channels = 16\n",
        "        self.conv = conv3x3(3, 16)\n",
        "        self.bn = nn.BatchNorm2d(16)\n",
        "        self.relu = nn.ReLU(inplace=True)\n",
        "        self.layer1 = self.make_layer(block, 16, layers[0])\n",
        "        self.layer2 = self.make_layer(block, 32, layers[1], 2)\n",
        "        self.layer3 = self.make_layer(block, 64, layers[2], 2)\n",
        "        self.avg_pool = nn.AvgPool2d(8)\n",
        "        self.fc = nn.Linear(64, num_classes)\n",
        "        \n",
        "    def make_layer(self, block, out_channels, blocks, stride=1):\n",
        "        downsample = None\n",
        "        if (stride != 1) or (self.in_channels != out_channels):\n",
        "            downsample = nn.Sequential(\n",
        "                conv3x3(self.in_channels, out_channels, stride=stride),\n",
        "                nn.BatchNorm2d(out_channels))\n",
        "        layers = []\n",
        "        layers.append(block(self.in_channels, out_channels, stride, downsample))\n",
        "        self.in_channels = out_channels\n",
        "        for i in range(1, blocks):\n",
        "            layers.append(block(out_channels, out_channels))\n",
        "        return nn.Sequential(*layers)\n",
        "    \n",
        "    def forward(self, x):\n",
        "        out = self.conv(x)\n",
        "        out = self.bn(out)\n",
        "        out = self.relu(out)\n",
        "        out = self.layer1(out)\n",
        "        out = self.layer2(out)\n",
        "        out = self.layer3(out)\n",
        "        out = self.avg_pool(out)\n",
        "        out = out.view(out.size(0), -1)\n",
        "        out = self.fc(out)\n",
        "        return out\n",
        "    "
      ],
      "execution_count": 6,
      "outputs": []
    },
    {
      "cell_type": "markdown",
      "source": [
        "## Create Model"
      ],
      "metadata": {
        "id": "WicZ0m5AA7g0"
      }
    },
    {
      "cell_type": "code",
      "metadata": {
        "id": "LTnQ_7qPRswG"
      },
      "source": [
        "def createResnetModelWithDepth(depth):\n",
        "  noOfBlocks = int((depth-2)/6)\n",
        "  return ResNet(ResidualBlock, [noOfBlocks, noOfBlocks, noOfBlocks]).to(device)"
      ],
      "execution_count": null,
      "outputs": []
    },
    {
      "cell_type": "code",
      "metadata": {
        "id": "JyRyRthXPHBI"
      },
      "source": [
        "def createPlainModelWithDepth(depth):\n",
        "  noOfBlocks = int((depth-2)/6)\n",
        "  return PlainNet(PlaiBlock, [noOfBlocks, noOfBlocks, noOfBlocks]).to(device)"
      ],
      "execution_count": 7,
      "outputs": []
    },
    {
      "cell_type": "markdown",
      "source": [
        "## For updating learning rate"
      ],
      "metadata": {
        "id": "bEizXOFvBUTB"
      }
    },
    {
      "cell_type": "code",
      "metadata": {
        "id": "UxUaxMn5NAO1"
      },
      "source": [
        "# For updating learning rate\n",
        "def update_lr(optimizer, lr):    \n",
        "    for param_group in optimizer.param_groups:\n",
        "        param_group['lr'] = lr"
      ],
      "execution_count": 8,
      "outputs": []
    },
    {
      "cell_type": "markdown",
      "source": [
        "## Train Fun"
      ],
      "metadata": {
        "id": "lQ5No47NBZ5U"
      }
    },
    {
      "cell_type": "code",
      "metadata": {
        "id": "B8ZGqesQ0w5d"
      },
      "source": [
        "def evaluate(model, data_loader, device):\n",
        "    y_true = np.array([], dtype=np.int)\n",
        "    y_pred = np.array([], dtype=np.int)\n",
        "    \n",
        "    with torch.no_grad():\n",
        "      for data in data_loader:\n",
        "          inputs, labels = data\n",
        "          inputs, labels = inputs.to(device), labels.to(device)\n",
        "          outputs = model(inputs)\n",
        "          _, predicted = torch.max(outputs.data, 1)\n",
        "\n",
        "          y_true = np.concatenate((y_true, labels.cpu()))\n",
        "          y_pred = np.concatenate((y_pred, predicted.cpu()))\n",
        "    \n",
        "    error = np.sum(y_pred != y_true) / len(y_true)\n",
        "    return error\n"
      ],
      "execution_count": 9,
      "outputs": []
    },
    {
      "cell_type": "code",
      "metadata": {
        "id": "HC4nxMq4N_el"
      },
      "source": [
        "# Train the model\n",
        "import os\n",
        "\n",
        "def trainModel(model,depth,isResnet):\n",
        "  # Loss and optimizer\n",
        "  criterion = nn.CrossEntropyLoss()\n",
        "  optimizer = torch.optim.SGD(model.parameters(), lr=learning_rate,momentum=0.9,weight_decay=1e-4)\n",
        "\n",
        "# Run on GPU if available\n",
        "  device = torch.device(\"cuda:0\" if torch.cuda.is_available() else \"cpu\")\n",
        "  print(device)\n",
        "  model.to(device)\n",
        "\n",
        "  outdir ='./results'\n",
        "  if not os.path.exists(outdir):\n",
        "    os.mkdir(outdir)\n",
        "\n",
        "  cols = ['epoch', 'train_loss', 'train_err', 'test_err']\n",
        "  results_df = pd.DataFrame(columns=cols).set_index('epoch')\n",
        "  \n",
        "  total_step = len(train_dataloader)\n",
        "  curr_lr = learning_rate\n",
        "  results_file = f'results/plainnet{depth}.csv'\n",
        "  if(isResnet):\n",
        "      results_file = f'results/resnet{depth}.csv'\n",
        "\n",
        "  for epoch in range(num_epochs):\n",
        "    running_loss  = 0.0\n",
        "    best_test_err = 1.0\n",
        "    model.train()\n",
        "\n",
        "    for i, (images, labels) in enumerate(train_dataloader):\n",
        "        images = images.to(device)\n",
        "        labels = labels.to(device)\n",
        "        \n",
        "        #  optimize\n",
        "        optimizer.zero_grad()\n",
        "\n",
        "        # Forward pass\n",
        "        outputs = model(images)\n",
        "        loss = criterion(outputs, labels)\n",
        "        #Backward\n",
        "        loss.backward()\n",
        "        optimizer.step()\n",
        "        \n",
        "        # print average loss for last 50 mini-batches\n",
        "        running_loss += loss.item()\n",
        "\n",
        "        if (i+1) % 100 == 0:\n",
        "            print (\"Epoch [{}/{}], Step [{}/{}] Loss: {:.4f}\"\n",
        "                   .format(epoch+1, num_epochs, i+1, total_step, loss.item()))\n",
        "    \n",
        "    # # Decay learning rate\n",
        "    # if (epoch+1) % 20 == 0:\n",
        "    #     curr_lr /= 3\n",
        "    #     update_lr(optimizer, curr_lr)\n",
        "    \n",
        "    model.eval()\n",
        "\n",
        "    train_loss = loss.item()\n",
        "    train_err = evaluate(model, train_dataloader, device)\n",
        "    test_err = evaluate(model, test_dataloader, device)\n",
        "    results_df.loc[epoch] = [train_loss, train_err, test_err]\n",
        "    results_df.to_csv(results_file)\n",
        "    print(f'train_err: {train_err} test_err: {test_err}')\n",
        "\n",
        "    model.eval()\n",
        "\n",
        "  return train_loss"
      ],
      "execution_count": 10,
      "outputs": []
    },
    {
      "cell_type": "markdown",
      "source": [
        "## Test Model"
      ],
      "metadata": {
        "id": "ghKkb58vB4lc"
      }
    },
    {
      "cell_type": "code",
      "metadata": {
        "id": "naboNYuBUA89"
      },
      "source": [
        "# Test the model\n",
        "def testModel(model):\n",
        "  model.eval()\n",
        "  with torch.no_grad():\n",
        "    correct = 0\n",
        "    total = 0\n",
        "    for images, labels in test_dataloader:\n",
        "        images = images.to(device)\n",
        "        labels = labels.to(device)\n",
        "        outputs = model(images)\n",
        "        _, predicted = torch.max(outputs.data, 1)\n",
        "        total += labels.size(0)\n",
        "        correct += (predicted == labels).sum().item()\n",
        "\n",
        "  print('Accuracy of the model on the test images: {} %'.format(100 * correct / total))"
      ],
      "execution_count": 11,
      "outputs": []
    },
    {
      "cell_type": "markdown",
      "source": [
        "## calculateModelParams"
      ],
      "metadata": {
        "id": "zGjyazAFB9WA"
      }
    },
    {
      "cell_type": "code",
      "metadata": {
        "id": "pkHuuAtTbZhy"
      },
      "source": [
        "#Calculate the total number of parameters for model stride 2\n",
        "from prettytable import PrettyTable\n",
        "\n",
        "def calculateModelParams(model):\n",
        "    table = PrettyTable([\"Modules\", \"Parameters\"])\n",
        "    total_params = 0\n",
        "    for name, parameter in model.named_parameters():\n",
        "        if not parameter.requires_grad: continue\n",
        "        param = parameter.numel()\n",
        "        table.add_row([name, param])\n",
        "        total_params+=param\n",
        "    print(table)\n",
        "    print(f\"Total Trainable Params: {total_params}\")\n",
        "    return total_params"
      ],
      "execution_count": 12,
      "outputs": []
    },
    {
      "cell_type": "markdown",
      "source": [
        "## Save Model"
      ],
      "metadata": {
        "id": "oFMyNr7MCLm2"
      }
    },
    {
      "cell_type": "code",
      "metadata": {
        "id": "EFBMwQ46ULsY"
      },
      "source": [
        "# Save the model checkpoint\n",
        "def saveModel(model,layerNo,isResnet):\n",
        "  snapShotName = \"plainnet%s.ckpt\" % (layerNo)\n",
        "  if(isResnet):\n",
        "      snapShotName = \"resnet%s.ckpt\" % (layerNo)\n",
        "\n",
        "  torch.save(model.state_dict(), snapShotName)\n",
        "  print(snapShotName)"
      ],
      "execution_count": 13,
      "outputs": []
    },
    {
      "cell_type": "markdown",
      "metadata": {
        "id": "k7lgHZyXWSnq"
      },
      "source": [
        "## **Resnet**"
      ]
    },
    {
      "cell_type": "markdown",
      "source": [
        "### Resnet20"
      ],
      "metadata": {
        "id": "Um5LSDFyQuum"
      }
    },
    {
      "cell_type": "code",
      "metadata": {
        "id": "Gen3oqlRWRCp",
        "colab": {
          "base_uri": "https://localhost:8080/",
          "height": 630
        },
        "outputId": "d0802d78-f8b8-4f39-9b0b-13b40626b0e8"
      },
      "source": [
        "resnet20Model = createResnetModelWithDepth(depth=20)\n",
        "trainModel(resnet20Model,20,True)\n",
        "testModel(resnet20Model)\n",
        "saveModel(resnet20Model,20,True)\n"
      ],
      "execution_count": null,
      "outputs": [
        {
          "output_type": "stream",
          "name": "stdout",
          "text": [
            "cuda:0\n",
            "Epoch [1/80], Step [100/391] Loss: 1.6972\n",
            "Epoch [1/80], Step [200/391] Loss: 1.5973\n",
            "Epoch [1/80], Step [300/391] Loss: 1.2896\n",
            "train_err: 0.5626 test_err: 0.571\n",
            "Epoch [2/80], Step [100/391] Loss: 1.2287\n",
            "Epoch [2/80], Step [200/391] Loss: 1.0186\n",
            "Epoch [2/80], Step [300/391] Loss: 0.8979\n",
            "train_err: 0.34488 test_err: 0.36\n",
            "Epoch [3/80], Step [100/391] Loss: 0.7852\n",
            "Epoch [3/80], Step [200/391] Loss: 0.6529\n",
            "Epoch [3/80], Step [300/391] Loss: 0.6880\n",
            "train_err: 0.26156 test_err: 0.2827\n",
            "Epoch [4/80], Step [100/391] Loss: 0.6758\n",
            "Epoch [4/80], Step [200/391] Loss: 0.6340\n",
            "Epoch [4/80], Step [300/391] Loss: 0.6780\n"
          ]
        },
        {
          "output_type": "error",
          "ename": "KeyboardInterrupt",
          "evalue": "ignored",
          "traceback": [
            "\u001b[0;31m---------------------------------------------------------------------------\u001b[0m",
            "\u001b[0;31mKeyboardInterrupt\u001b[0m                         Traceback (most recent call last)",
            "\u001b[0;32m<ipython-input-16-dcf5c32f8f0a>\u001b[0m in \u001b[0;36m<module>\u001b[0;34m()\u001b[0m\n\u001b[1;32m      1\u001b[0m \u001b[0mresnet20Model\u001b[0m \u001b[0;34m=\u001b[0m \u001b[0mcreateResnetModelWithDepth\u001b[0m\u001b[0;34m(\u001b[0m\u001b[0mdepth\u001b[0m\u001b[0;34m=\u001b[0m\u001b[0;36m20\u001b[0m\u001b[0;34m)\u001b[0m\u001b[0;34m\u001b[0m\u001b[0;34m\u001b[0m\u001b[0m\n\u001b[0;32m----> 2\u001b[0;31m \u001b[0mtrainModel\u001b[0m\u001b[0;34m(\u001b[0m\u001b[0mresnet20Model\u001b[0m\u001b[0;34m,\u001b[0m\u001b[0;36m20\u001b[0m\u001b[0;34m,\u001b[0m\u001b[0;32mTrue\u001b[0m\u001b[0;34m)\u001b[0m\u001b[0;34m\u001b[0m\u001b[0;34m\u001b[0m\u001b[0m\n\u001b[0m\u001b[1;32m      3\u001b[0m \u001b[0mtestModel\u001b[0m\u001b[0;34m(\u001b[0m\u001b[0mresnet20Model\u001b[0m\u001b[0;34m)\u001b[0m\u001b[0;34m\u001b[0m\u001b[0;34m\u001b[0m\u001b[0m\n\u001b[1;32m      4\u001b[0m \u001b[0msaveModel\u001b[0m\u001b[0;34m(\u001b[0m\u001b[0mresnet20Model\u001b[0m\u001b[0;34m,\u001b[0m\u001b[0;36m20\u001b[0m\u001b[0;34m)\u001b[0m\u001b[0;34m\u001b[0m\u001b[0;34m\u001b[0m\u001b[0m\n",
            "\u001b[0;32m<ipython-input-12-2ba406de2ade>\u001b[0m in \u001b[0;36mtrainModel\u001b[0;34m(model, depth, isResnet)\u001b[0m\n\u001b[1;32m     59\u001b[0m \u001b[0;34m\u001b[0m\u001b[0m\n\u001b[1;32m     60\u001b[0m     \u001b[0mtrain_loss\u001b[0m \u001b[0;34m=\u001b[0m \u001b[0mloss\u001b[0m\u001b[0;34m.\u001b[0m\u001b[0mitem\u001b[0m\u001b[0;34m(\u001b[0m\u001b[0;34m)\u001b[0m\u001b[0;34m\u001b[0m\u001b[0;34m\u001b[0m\u001b[0m\n\u001b[0;32m---> 61\u001b[0;31m     \u001b[0mtrain_err\u001b[0m \u001b[0;34m=\u001b[0m \u001b[0mevaluate\u001b[0m\u001b[0;34m(\u001b[0m\u001b[0mmodel\u001b[0m\u001b[0;34m,\u001b[0m \u001b[0mtrain_dataloader\u001b[0m\u001b[0;34m,\u001b[0m \u001b[0mdevice\u001b[0m\u001b[0;34m)\u001b[0m\u001b[0;34m\u001b[0m\u001b[0;34m\u001b[0m\u001b[0m\n\u001b[0m\u001b[1;32m     62\u001b[0m     \u001b[0mtest_err\u001b[0m \u001b[0;34m=\u001b[0m \u001b[0mevaluate\u001b[0m\u001b[0;34m(\u001b[0m\u001b[0mmodel\u001b[0m\u001b[0;34m,\u001b[0m \u001b[0mtest_dataloader\u001b[0m\u001b[0;34m,\u001b[0m \u001b[0mdevice\u001b[0m\u001b[0;34m)\u001b[0m\u001b[0;34m\u001b[0m\u001b[0;34m\u001b[0m\u001b[0m\n\u001b[1;32m     63\u001b[0m     \u001b[0mresults_df\u001b[0m\u001b[0;34m.\u001b[0m\u001b[0mloc\u001b[0m\u001b[0;34m[\u001b[0m\u001b[0mepoch\u001b[0m\u001b[0;34m]\u001b[0m \u001b[0;34m=\u001b[0m \u001b[0;34m[\u001b[0m\u001b[0mtrain_loss\u001b[0m\u001b[0;34m,\u001b[0m \u001b[0mtrain_err\u001b[0m\u001b[0;34m,\u001b[0m \u001b[0mtest_err\u001b[0m\u001b[0;34m]\u001b[0m\u001b[0;34m\u001b[0m\u001b[0;34m\u001b[0m\u001b[0m\n",
            "\u001b[0;32m<ipython-input-11-ee8adcb8b5c0>\u001b[0m in \u001b[0;36mevaluate\u001b[0;34m(model, data_loader, device)\u001b[0m\n\u001b[1;32m     10\u001b[0m           \u001b[0m_\u001b[0m\u001b[0;34m,\u001b[0m \u001b[0mpredicted\u001b[0m \u001b[0;34m=\u001b[0m \u001b[0mtorch\u001b[0m\u001b[0;34m.\u001b[0m\u001b[0mmax\u001b[0m\u001b[0;34m(\u001b[0m\u001b[0moutputs\u001b[0m\u001b[0;34m.\u001b[0m\u001b[0mdata\u001b[0m\u001b[0;34m,\u001b[0m \u001b[0;36m1\u001b[0m\u001b[0;34m)\u001b[0m\u001b[0;34m\u001b[0m\u001b[0;34m\u001b[0m\u001b[0m\n\u001b[1;32m     11\u001b[0m \u001b[0;34m\u001b[0m\u001b[0m\n\u001b[0;32m---> 12\u001b[0;31m           \u001b[0my_true\u001b[0m \u001b[0;34m=\u001b[0m \u001b[0mnp\u001b[0m\u001b[0;34m.\u001b[0m\u001b[0mconcatenate\u001b[0m\u001b[0;34m(\u001b[0m\u001b[0;34m(\u001b[0m\u001b[0my_true\u001b[0m\u001b[0;34m,\u001b[0m \u001b[0mlabels\u001b[0m\u001b[0;34m.\u001b[0m\u001b[0mcpu\u001b[0m\u001b[0;34m(\u001b[0m\u001b[0;34m)\u001b[0m\u001b[0;34m)\u001b[0m\u001b[0;34m)\u001b[0m\u001b[0;34m\u001b[0m\u001b[0;34m\u001b[0m\u001b[0m\n\u001b[0m\u001b[1;32m     13\u001b[0m           \u001b[0my_pred\u001b[0m \u001b[0;34m=\u001b[0m \u001b[0mnp\u001b[0m\u001b[0;34m.\u001b[0m\u001b[0mconcatenate\u001b[0m\u001b[0;34m(\u001b[0m\u001b[0;34m(\u001b[0m\u001b[0my_pred\u001b[0m\u001b[0;34m,\u001b[0m \u001b[0mpredicted\u001b[0m\u001b[0;34m.\u001b[0m\u001b[0mcpu\u001b[0m\u001b[0;34m(\u001b[0m\u001b[0;34m)\u001b[0m\u001b[0;34m)\u001b[0m\u001b[0;34m)\u001b[0m\u001b[0;34m\u001b[0m\u001b[0;34m\u001b[0m\u001b[0m\n\u001b[1;32m     14\u001b[0m \u001b[0;34m\u001b[0m\u001b[0m\n",
            "\u001b[0;31mKeyboardInterrupt\u001b[0m: "
          ]
        }
      ]
    },
    {
      "cell_type": "markdown",
      "metadata": {
        "id": "jQsM4rrTYLdw"
      },
      "source": [
        "### **Resnet32**"
      ]
    },
    {
      "cell_type": "code",
      "metadata": {
        "id": "ifgBfAzVZ81P"
      },
      "source": [
        "resnet32Model = createResnetModelWithDepth(32)\n",
        "trainModel(resnet32Model,32,True)\n",
        "testModel(resnet32Model)\n",
        "saveModel(resnet32Model,32,True)"
      ],
      "execution_count": null,
      "outputs": []
    },
    {
      "cell_type": "markdown",
      "metadata": {
        "id": "AzW3PdDuYTsC"
      },
      "source": [
        "### **Resnet44**"
      ]
    },
    {
      "cell_type": "code",
      "metadata": {
        "id": "uyxKW5mzaFeJ"
      },
      "source": [
        "resnet44Model = createResnetModelWithDepth(44)\n",
        "trainModel(resnet44Model,44,True)\n",
        "testModel(resnet44Model)\n",
        "saveModel(resnet44Model,44,True)"
      ],
      "execution_count": null,
      "outputs": []
    },
    {
      "cell_type": "markdown",
      "metadata": {
        "id": "NULlJaGtYVL5"
      },
      "source": [
        "### **Resnet56**"
      ]
    },
    {
      "cell_type": "code",
      "metadata": {
        "id": "mqjIFm7MaJBL"
      },
      "source": [
        "resnet56Model = createResnetModelWithDepth(56)\n",
        "trainModel(resnet56Model,56,True)\n",
        "testModel(resnet56Model)\n",
        "saveModel(resnet56Model,56,True)"
      ],
      "execution_count": null,
      "outputs": []
    },
    {
      "cell_type": "markdown",
      "metadata": {
        "id": "nWcRO6T6AOis"
      },
      "source": [
        "###Classification error and the number of parameters of each architecture"
      ]
    },
    {
      "cell_type": "code",
      "metadata": {
        "id": "z8FwFIy4iIQn"
      },
      "source": [
        "calculateModelParams(resnet20Model)\n",
        "calculateModelParams(resnet32Model)\n",
        "calculateModelParams(resnet44Model)\n",
        "calculateModelParams(resnet56Model)"
      ],
      "execution_count": null,
      "outputs": []
    },
    {
      "cell_type": "code",
      "metadata": {
        "id": "o6Hx0SO_z0j9"
      },
      "source": [
        "ns  = [3, 5, 7, 9]\n",
        "clr = ['y', 'c', 'g', 'r']\n",
        "\n",
        "resnet_dfs = [pd.read_csv(f'results/resnet{6*n+2}.csv') for n in ns]\n",
        "fig = plt.figure(figsize=(20, 10))\n",
        "plt.axis([0, 80, 0, 100])\n",
        "\n",
        "\n",
        "for i in range(len(ns)):\n",
        "    plt.plot(resnet_dfs[i]['epoch'], resnet_dfs[i]['train_err']*100, f'{clr[i]}--',\n",
        "             label=f'ResNet-{6*ns[i]+2} train')\n",
        "    plt.plot(resnet_dfs[i]['epoch'], resnet_dfs[i]['test_err']*100, f'{clr[i]}',\n",
        "             label=f'ResNet-{6*ns[i]+2} test')\n",
        "\n",
        "plt.title('Comparison of four residual networks with 20, 32, 44 and 56 layers.')\n",
        "plt.legend(loc='upper right')\n",
        "plt.xlabel('epochs')\n",
        "plt.ylabel('error (%)')\n",
        "plt.axhline(10, color='black', alpha=0.5, dashes=(10., 10.))\n",
        "plt.axhline(5, color='black', alpha=0.5, dashes=(10., 10.));"
      ],
      "execution_count": null,
      "outputs": []
    },
    {
      "cell_type": "code",
      "metadata": {
        "id": "TkPpRn3nz7FB"
      },
      "source": [
        "bests = [df[df['test_err'] == df['test_err'].min()].iloc[0] for df in resnet_dfs]\n",
        "bests_df= pd.concat(bests, axis=1).T\n",
        "bests_df['model'] = ['ResNet20', 'ResNet32', 'ResNet44', 'ResNet56']\n",
        "display(bests_df[['model', 'test_err']])"
      ],
      "execution_count": null,
      "outputs": []
    },
    {
      "cell_type": "markdown",
      "metadata": {
        "id": "DiZhaDH1SXEO"
      },
      "source": [
        "##Plain Network\n"
      ]
    },
    {
      "cell_type": "markdown",
      "source": [
        "### Plain20"
      ],
      "metadata": {
        "id": "-zFUViapI-o2"
      }
    },
    {
      "cell_type": "code",
      "metadata": {
        "id": "hI8gTfCaSgtY",
        "outputId": "92926aa5-e865-4477-817f-7dd7bbb5d437",
        "colab": {
          "base_uri": "https://localhost:8080/"
        }
      },
      "source": [
        "Plainnetwork20Model = createPlainModelWithDepth(20)\n",
        "trainModel(Plainnetwork20Model,20,False)\n",
        "testModel(Plainnetwork20Model)\n",
        "saveModel(Plainnetwork20Model,20,False)\n"
      ],
      "execution_count": 14,
      "outputs": [
        {
          "output_type": "stream",
          "name": "stdout",
          "text": [
            "cuda:0\n",
            "Epoch [1/80], Step [100/391] Loss: 1.7888\n",
            "Epoch [1/80], Step [200/391] Loss: 1.6467\n",
            "Epoch [1/80], Step [300/391] Loss: 1.4907\n",
            "train_err: 0.5898 test_err: 0.5961\n",
            "Epoch [2/80], Step [100/391] Loss: 1.3516\n",
            "Epoch [2/80], Step [200/391] Loss: 1.3443\n",
            "Epoch [2/80], Step [300/391] Loss: 1.3155\n",
            "train_err: 0.45476 test_err: 0.4669\n",
            "Epoch [3/80], Step [100/391] Loss: 1.2248\n",
            "Epoch [3/80], Step [200/391] Loss: 1.0815\n",
            "Epoch [3/80], Step [300/391] Loss: 1.0414\n",
            "train_err: 0.35386 test_err: 0.3687\n",
            "Epoch [4/80], Step [100/391] Loss: 0.9153\n",
            "Epoch [4/80], Step [200/391] Loss: 0.9499\n",
            "Epoch [4/80], Step [300/391] Loss: 0.8817\n",
            "train_err: 0.31804 test_err: 0.3349\n",
            "Epoch [5/80], Step [100/391] Loss: 0.8196\n",
            "Epoch [5/80], Step [200/391] Loss: 0.7766\n",
            "Epoch [5/80], Step [300/391] Loss: 0.8359\n",
            "train_err: 0.26004 test_err: 0.2862\n",
            "Epoch [6/80], Step [100/391] Loss: 0.6448\n",
            "Epoch [6/80], Step [200/391] Loss: 0.6543\n",
            "Epoch [6/80], Step [300/391] Loss: 0.6680\n",
            "train_err: 0.23438 test_err: 0.2654\n",
            "Epoch [7/80], Step [100/391] Loss: 0.6169\n",
            "Epoch [7/80], Step [200/391] Loss: 0.5755\n",
            "Epoch [7/80], Step [300/391] Loss: 0.4994\n",
            "train_err: 0.2323 test_err: 0.2716\n",
            "Epoch [8/80], Step [100/391] Loss: 0.5934\n",
            "Epoch [8/80], Step [200/391] Loss: 0.6081\n",
            "Epoch [8/80], Step [300/391] Loss: 0.4960\n",
            "train_err: 0.2314 test_err: 0.2691\n",
            "Epoch [9/80], Step [100/391] Loss: 0.4554\n",
            "Epoch [9/80], Step [200/391] Loss: 0.6209\n",
            "Epoch [9/80], Step [300/391] Loss: 0.5111\n",
            "train_err: 0.21082 test_err: 0.257\n",
            "Epoch [10/80], Step [100/391] Loss: 0.3899\n",
            "Epoch [10/80], Step [200/391] Loss: 0.5568\n",
            "Epoch [10/80], Step [300/391] Loss: 0.5642\n",
            "train_err: 0.1811 test_err: 0.2335\n",
            "Epoch [11/80], Step [100/391] Loss: 0.4214\n",
            "Epoch [11/80], Step [200/391] Loss: 0.4358\n",
            "Epoch [11/80], Step [300/391] Loss: 0.4059\n",
            "train_err: 0.15484 test_err: 0.2142\n",
            "Epoch [12/80], Step [100/391] Loss: 0.4355\n",
            "Epoch [12/80], Step [200/391] Loss: 0.4995\n",
            "Epoch [12/80], Step [300/391] Loss: 0.5374\n",
            "train_err: 0.14996 test_err: 0.2212\n",
            "Epoch [13/80], Step [100/391] Loss: 0.2671\n",
            "Epoch [13/80], Step [200/391] Loss: 0.3364\n",
            "Epoch [13/80], Step [300/391] Loss: 0.4768\n",
            "train_err: 0.20404 test_err: 0.2662\n",
            "Epoch [14/80], Step [100/391] Loss: 0.3506\n",
            "Epoch [14/80], Step [200/391] Loss: 0.2863\n",
            "Epoch [14/80], Step [300/391] Loss: 0.3746\n",
            "train_err: 0.12202 test_err: 0.2068\n",
            "Epoch [15/80], Step [100/391] Loss: 0.3789\n",
            "Epoch [15/80], Step [200/391] Loss: 0.3345\n",
            "Epoch [15/80], Step [300/391] Loss: 0.4477\n",
            "train_err: 0.17538 test_err: 0.2483\n",
            "Epoch [16/80], Step [100/391] Loss: 0.3340\n",
            "Epoch [16/80], Step [200/391] Loss: 0.3793\n",
            "Epoch [16/80], Step [300/391] Loss: 0.4456\n",
            "train_err: 0.1865 test_err: 0.2552\n",
            "Epoch [17/80], Step [100/391] Loss: 0.2547\n",
            "Epoch [17/80], Step [200/391] Loss: 0.4420\n",
            "Epoch [17/80], Step [300/391] Loss: 0.3730\n",
            "train_err: 0.14474 test_err: 0.2322\n",
            "Epoch [18/80], Step [100/391] Loss: 0.4458\n",
            "Epoch [18/80], Step [200/391] Loss: 0.2959\n",
            "Epoch [18/80], Step [300/391] Loss: 0.3373\n",
            "train_err: 0.13984 test_err: 0.2261\n",
            "Epoch [19/80], Step [100/391] Loss: 0.3047\n",
            "Epoch [19/80], Step [200/391] Loss: 0.2380\n",
            "Epoch [19/80], Step [300/391] Loss: 0.2346\n",
            "train_err: 0.14344 test_err: 0.2357\n",
            "Epoch [20/80], Step [100/391] Loss: 0.2638\n",
            "Epoch [20/80], Step [200/391] Loss: 0.3818\n",
            "Epoch [20/80], Step [300/391] Loss: 0.2247\n",
            "train_err: 0.1072 test_err: 0.2076\n",
            "Epoch [21/80], Step [100/391] Loss: 0.2402\n",
            "Epoch [21/80], Step [200/391] Loss: 0.1222\n",
            "Epoch [21/80], Step [300/391] Loss: 0.2809\n",
            "train_err: 0.11202 test_err: 0.2131\n",
            "Epoch [22/80], Step [100/391] Loss: 0.2770\n",
            "Epoch [22/80], Step [200/391] Loss: 0.2304\n",
            "Epoch [22/80], Step [300/391] Loss: 0.2465\n",
            "train_err: 0.10074 test_err: 0.2091\n",
            "Epoch [23/80], Step [100/391] Loss: 0.3171\n",
            "Epoch [23/80], Step [200/391] Loss: 0.1804\n",
            "Epoch [23/80], Step [300/391] Loss: 0.2444\n",
            "train_err: 0.15782 test_err: 0.2501\n",
            "Epoch [24/80], Step [100/391] Loss: 0.2011\n",
            "Epoch [24/80], Step [200/391] Loss: 0.1758\n",
            "Epoch [24/80], Step [300/391] Loss: 0.2985\n",
            "train_err: 0.14826 test_err: 0.2487\n",
            "Epoch [25/80], Step [100/391] Loss: 0.2041\n",
            "Epoch [25/80], Step [200/391] Loss: 0.2832\n",
            "Epoch [25/80], Step [300/391] Loss: 0.2905\n",
            "train_err: 0.10934 test_err: 0.2134\n",
            "Epoch [26/80], Step [100/391] Loss: 0.1640\n",
            "Epoch [26/80], Step [200/391] Loss: 0.2961\n",
            "Epoch [26/80], Step [300/391] Loss: 0.2659\n",
            "train_err: 0.0967 test_err: 0.2088\n",
            "Epoch [27/80], Step [100/391] Loss: 0.1419\n",
            "Epoch [27/80], Step [200/391] Loss: 0.4197\n",
            "Epoch [27/80], Step [300/391] Loss: 0.3239\n",
            "train_err: 0.10968 test_err: 0.2184\n",
            "Epoch [28/80], Step [100/391] Loss: 0.2698\n",
            "Epoch [28/80], Step [200/391] Loss: 0.0655\n",
            "Epoch [28/80], Step [300/391] Loss: 0.3095\n",
            "train_err: 0.08 test_err: 0.1974\n",
            "Epoch [29/80], Step [100/391] Loss: 0.1284\n",
            "Epoch [29/80], Step [200/391] Loss: 0.2572\n",
            "Epoch [29/80], Step [300/391] Loss: 0.2924\n",
            "train_err: 0.07838 test_err: 0.1981\n",
            "Epoch [30/80], Step [100/391] Loss: 0.1710\n",
            "Epoch [30/80], Step [200/391] Loss: 0.1871\n",
            "Epoch [30/80], Step [300/391] Loss: 0.3349\n",
            "train_err: 0.11264 test_err: 0.2214\n",
            "Epoch [31/80], Step [100/391] Loss: 0.1318\n",
            "Epoch [31/80], Step [200/391] Loss: 0.1173\n",
            "Epoch [31/80], Step [300/391] Loss: 0.2034\n",
            "train_err: 0.09546 test_err: 0.2115\n",
            "Epoch [32/80], Step [100/391] Loss: 0.1632\n",
            "Epoch [32/80], Step [200/391] Loss: 0.1186\n",
            "Epoch [32/80], Step [300/391] Loss: 0.2122\n",
            "train_err: 0.1583 test_err: 0.2586\n",
            "Epoch [33/80], Step [100/391] Loss: 0.1845\n",
            "Epoch [33/80], Step [200/391] Loss: 0.0587\n",
            "Epoch [33/80], Step [300/391] Loss: 0.2580\n",
            "train_err: 0.07396 test_err: 0.2044\n",
            "Epoch [34/80], Step [100/391] Loss: 0.1248\n",
            "Epoch [34/80], Step [200/391] Loss: 0.2431\n",
            "Epoch [34/80], Step [300/391] Loss: 0.0744\n",
            "train_err: 0.0853 test_err: 0.2078\n",
            "Epoch [35/80], Step [100/391] Loss: 0.1316\n",
            "Epoch [35/80], Step [200/391] Loss: 0.1801\n",
            "Epoch [35/80], Step [300/391] Loss: 0.2097\n",
            "train_err: 0.0791 test_err: 0.2066\n",
            "Epoch [36/80], Step [100/391] Loss: 0.1267\n",
            "Epoch [36/80], Step [200/391] Loss: 0.1872\n",
            "Epoch [36/80], Step [300/391] Loss: 0.0874\n",
            "train_err: 0.14054 test_err: 0.2529\n",
            "Epoch [37/80], Step [100/391] Loss: 0.1657\n",
            "Epoch [37/80], Step [200/391] Loss: 0.1495\n",
            "Epoch [37/80], Step [300/391] Loss: 0.2859\n",
            "train_err: 0.08822 test_err: 0.2116\n",
            "Epoch [38/80], Step [100/391] Loss: 0.1222\n",
            "Epoch [38/80], Step [200/391] Loss: 0.1588\n",
            "Epoch [38/80], Step [300/391] Loss: 0.2563\n",
            "train_err: 0.07334 test_err: 0.2018\n",
            "Epoch [39/80], Step [100/391] Loss: 0.1378\n",
            "Epoch [39/80], Step [200/391] Loss: 0.2076\n",
            "Epoch [39/80], Step [300/391] Loss: 0.3153\n",
            "train_err: 0.14842 test_err: 0.2548\n",
            "Epoch [40/80], Step [100/391] Loss: 0.1144\n",
            "Epoch [40/80], Step [200/391] Loss: 0.1945\n",
            "Epoch [40/80], Step [300/391] Loss: 0.2359\n",
            "train_err: 0.05996 test_err: 0.1954\n",
            "Epoch [41/80], Step [100/391] Loss: 0.1470\n",
            "Epoch [41/80], Step [200/391] Loss: 0.0901\n",
            "Epoch [41/80], Step [300/391] Loss: 0.1121\n",
            "train_err: 0.05698 test_err: 0.1954\n",
            "Epoch [42/80], Step [100/391] Loss: 0.0743\n",
            "Epoch [42/80], Step [200/391] Loss: 0.1830\n",
            "Epoch [42/80], Step [300/391] Loss: 0.1760\n",
            "train_err: 0.0598 test_err: 0.1959\n",
            "Epoch [43/80], Step [100/391] Loss: 0.1632\n",
            "Epoch [43/80], Step [200/391] Loss: 0.1446\n",
            "Epoch [43/80], Step [300/391] Loss: 0.1189\n",
            "train_err: 0.11684 test_err: 0.238\n",
            "Epoch [44/80], Step [100/391] Loss: 0.1276\n",
            "Epoch [44/80], Step [200/391] Loss: 0.0838\n",
            "Epoch [44/80], Step [300/391] Loss: 0.1881\n",
            "train_err: 0.12592 test_err: 0.2488\n",
            "Epoch [45/80], Step [100/391] Loss: 0.0627\n",
            "Epoch [45/80], Step [200/391] Loss: 0.2036\n",
            "Epoch [45/80], Step [300/391] Loss: 0.1336\n",
            "train_err: 0.0616 test_err: 0.1996\n",
            "Epoch [46/80], Step [100/391] Loss: 0.0560\n",
            "Epoch [46/80], Step [200/391] Loss: 0.0983\n",
            "Epoch [46/80], Step [300/391] Loss: 0.1606\n",
            "train_err: 0.05548 test_err: 0.1986\n",
            "Epoch [47/80], Step [100/391] Loss: 0.0771\n",
            "Epoch [47/80], Step [200/391] Loss: 0.1983\n",
            "Epoch [47/80], Step [300/391] Loss: 0.2607\n",
            "train_err: 0.07302 test_err: 0.2089\n",
            "Epoch [48/80], Step [100/391] Loss: 0.0971\n",
            "Epoch [48/80], Step [200/391] Loss: 0.2847\n",
            "Epoch [48/80], Step [300/391] Loss: 0.0715\n",
            "train_err: 0.08666 test_err: 0.2266\n",
            "Epoch [49/80], Step [100/391] Loss: 0.1167\n",
            "Epoch [49/80], Step [200/391] Loss: 0.1608\n",
            "Epoch [49/80], Step [300/391] Loss: 0.1620\n",
            "train_err: 0.03948 test_err: 0.1889\n",
            "Epoch [50/80], Step [100/391] Loss: 0.1436\n",
            "Epoch [50/80], Step [200/391] Loss: 0.0803\n",
            "Epoch [50/80], Step [300/391] Loss: 0.1273\n",
            "train_err: 0.07938 test_err: 0.2172\n",
            "Epoch [51/80], Step [100/391] Loss: 0.0763\n",
            "Epoch [51/80], Step [200/391] Loss: 0.2136\n",
            "Epoch [51/80], Step [300/391] Loss: 0.1235\n",
            "train_err: 0.08526 test_err: 0.2175\n",
            "Epoch [52/80], Step [100/391] Loss: 0.1608\n",
            "Epoch [52/80], Step [200/391] Loss: 0.0711\n",
            "Epoch [52/80], Step [300/391] Loss: 0.2053\n",
            "train_err: 0.1124 test_err: 0.2362\n",
            "Epoch [53/80], Step [100/391] Loss: 0.1752\n",
            "Epoch [53/80], Step [200/391] Loss: 0.0631\n",
            "Epoch [53/80], Step [300/391] Loss: 0.1317\n",
            "train_err: 0.08232 test_err: 0.2122\n",
            "Epoch [54/80], Step [100/391] Loss: 0.1172\n",
            "Epoch [54/80], Step [200/391] Loss: 0.1177\n",
            "Epoch [54/80], Step [300/391] Loss: 0.1458\n",
            "train_err: 0.079 test_err: 0.227\n",
            "Epoch [55/80], Step [100/391] Loss: 0.1078\n",
            "Epoch [55/80], Step [200/391] Loss: 0.0864\n",
            "Epoch [55/80], Step [300/391] Loss: 0.2196\n",
            "train_err: 0.07124 test_err: 0.214\n",
            "Epoch [56/80], Step [100/391] Loss: 0.0967\n",
            "Epoch [56/80], Step [200/391] Loss: 0.0699\n",
            "Epoch [56/80], Step [300/391] Loss: 0.1312\n",
            "train_err: 0.0881 test_err: 0.2203\n",
            "Epoch [57/80], Step [100/391] Loss: 0.0744\n",
            "Epoch [57/80], Step [200/391] Loss: 0.0663\n",
            "Epoch [57/80], Step [300/391] Loss: 0.1832\n",
            "train_err: 0.10166 test_err: 0.2319\n",
            "Epoch [58/80], Step [100/391] Loss: 0.1316\n",
            "Epoch [58/80], Step [200/391] Loss: 0.0955\n",
            "Epoch [58/80], Step [300/391] Loss: 0.2165\n",
            "train_err: 0.05806 test_err: 0.1995\n",
            "Epoch [59/80], Step [100/391] Loss: 0.1103\n",
            "Epoch [59/80], Step [200/391] Loss: 0.0733\n",
            "Epoch [59/80], Step [300/391] Loss: 0.1335\n",
            "train_err: 0.05576 test_err: 0.1934\n",
            "Epoch [60/80], Step [100/391] Loss: 0.1039\n",
            "Epoch [60/80], Step [200/391] Loss: 0.0633\n",
            "Epoch [60/80], Step [300/391] Loss: 0.0916\n",
            "train_err: 0.07166 test_err: 0.2088\n",
            "Epoch [61/80], Step [100/391] Loss: 0.1112\n",
            "Epoch [61/80], Step [200/391] Loss: 0.0514\n",
            "Epoch [61/80], Step [300/391] Loss: 0.1991\n",
            "train_err: 0.05668 test_err: 0.2053\n",
            "Epoch [62/80], Step [100/391] Loss: 0.1020\n",
            "Epoch [62/80], Step [200/391] Loss: 0.1721\n",
            "Epoch [62/80], Step [300/391] Loss: 0.1716\n",
            "train_err: 0.04406 test_err: 0.1911\n",
            "Epoch [63/80], Step [100/391] Loss: 0.1291\n",
            "Epoch [63/80], Step [200/391] Loss: 0.1010\n",
            "Epoch [63/80], Step [300/391] Loss: 0.1391\n",
            "train_err: 0.12364 test_err: 0.2477\n",
            "Epoch [64/80], Step [100/391] Loss: 0.0877\n",
            "Epoch [64/80], Step [200/391] Loss: 0.1563\n",
            "Epoch [64/80], Step [300/391] Loss: 0.1469\n",
            "train_err: 0.08436 test_err: 0.2193\n",
            "Epoch [65/80], Step [100/391] Loss: 0.0377\n",
            "Epoch [65/80], Step [200/391] Loss: 0.1131\n",
            "Epoch [65/80], Step [300/391] Loss: 0.2106\n",
            "train_err: 0.08444 test_err: 0.2192\n",
            "Epoch [66/80], Step [100/391] Loss: 0.0411\n",
            "Epoch [66/80], Step [200/391] Loss: 0.1329\n",
            "Epoch [66/80], Step [300/391] Loss: 0.1227\n",
            "train_err: 0.08972 test_err: 0.2294\n",
            "Epoch [67/80], Step [100/391] Loss: 0.0293\n",
            "Epoch [67/80], Step [200/391] Loss: 0.1625\n",
            "Epoch [67/80], Step [300/391] Loss: 0.1478\n",
            "train_err: 0.0679 test_err: 0.2104\n",
            "Epoch [68/80], Step [100/391] Loss: 0.1322\n",
            "Epoch [68/80], Step [200/391] Loss: 0.2169\n",
            "Epoch [68/80], Step [300/391] Loss: 0.1612\n",
            "train_err: 0.05916 test_err: 0.2044\n",
            "Epoch [69/80], Step [100/391] Loss: 0.1461\n",
            "Epoch [69/80], Step [200/391] Loss: 0.1031\n",
            "Epoch [69/80], Step [300/391] Loss: 0.0691\n",
            "train_err: 0.07242 test_err: 0.212\n",
            "Epoch [70/80], Step [100/391] Loss: 0.0562\n",
            "Epoch [70/80], Step [200/391] Loss: 0.1553\n",
            "Epoch [70/80], Step [300/391] Loss: 0.1433\n",
            "train_err: 0.0899 test_err: 0.2197\n",
            "Epoch [71/80], Step [100/391] Loss: 0.0495\n",
            "Epoch [71/80], Step [200/391] Loss: 0.0971\n",
            "Epoch [71/80], Step [300/391] Loss: 0.0955\n",
            "train_err: 0.07312 test_err: 0.2142\n",
            "Epoch [72/80], Step [100/391] Loss: 0.1583\n",
            "Epoch [72/80], Step [200/391] Loss: 0.0866\n",
            "Epoch [72/80], Step [300/391] Loss: 0.0725\n",
            "train_err: 0.07118 test_err: 0.2119\n",
            "Epoch [73/80], Step [100/391] Loss: 0.0971\n",
            "Epoch [73/80], Step [200/391] Loss: 0.2511\n",
            "Epoch [73/80], Step [300/391] Loss: 0.2246\n",
            "train_err: 0.0647 test_err: 0.21\n",
            "Epoch [74/80], Step [100/391] Loss: 0.0633\n",
            "Epoch [74/80], Step [200/391] Loss: 0.1095\n",
            "Epoch [74/80], Step [300/391] Loss: 0.1716\n",
            "train_err: 0.08456 test_err: 0.218\n",
            "Epoch [75/80], Step [100/391] Loss: 0.1324\n",
            "Epoch [75/80], Step [200/391] Loss: 0.0983\n",
            "Epoch [75/80], Step [300/391] Loss: 0.1088\n",
            "train_err: 0.06404 test_err: 0.2048\n",
            "Epoch [76/80], Step [100/391] Loss: 0.0986\n",
            "Epoch [76/80], Step [200/391] Loss: 0.1390\n",
            "Epoch [76/80], Step [300/391] Loss: 0.1272\n",
            "train_err: 0.10246 test_err: 0.2342\n",
            "Epoch [77/80], Step [100/391] Loss: 0.1387\n",
            "Epoch [77/80], Step [200/391] Loss: 0.1234\n",
            "Epoch [77/80], Step [300/391] Loss: 0.1125\n",
            "train_err: 0.0774 test_err: 0.2098\n",
            "Epoch [78/80], Step [100/391] Loss: 0.1335\n",
            "Epoch [78/80], Step [200/391] Loss: 0.2139\n",
            "Epoch [78/80], Step [300/391] Loss: 0.1718\n",
            "train_err: 0.0557 test_err: 0.2029\n",
            "Epoch [79/80], Step [100/391] Loss: 0.0810\n",
            "Epoch [79/80], Step [200/391] Loss: 0.1970\n",
            "Epoch [79/80], Step [300/391] Loss: 0.1062\n",
            "train_err: 0.0768 test_err: 0.223\n",
            "Epoch [80/80], Step [100/391] Loss: 0.0387\n",
            "Epoch [80/80], Step [200/391] Loss: 0.0849\n",
            "Epoch [80/80], Step [300/391] Loss: 0.1887\n",
            "train_err: 0.07084 test_err: 0.2136\n",
            "Accuracy of the model on the test images: 78.64 %\n",
            "plainnet20.ckpt\n"
          ]
        }
      ]
    },
    {
      "cell_type": "markdown",
      "source": [
        "### Plain32"
      ],
      "metadata": {
        "id": "ZnHNpu7NJGf9"
      }
    },
    {
      "cell_type": "code",
      "metadata": {
        "id": "09O5xlIlSqGK",
        "outputId": "e7282d09-3678-4992-8509-fc2774071971",
        "colab": {
          "base_uri": "https://localhost:8080/"
        }
      },
      "source": [
        "Plainnetwork32Model = createPlainModelWithDepth(32)\n",
        "trainModel(Plainnetwork32Model,32,False)\n",
        "testModel(Plainnetwork32Model)\n",
        "saveModel(Plainnetwork32Model,32,False)"
      ],
      "execution_count": null,
      "outputs": [
        {
          "output_type": "stream",
          "name": "stdout",
          "text": [
            "cuda:0\n",
            "Epoch [1/80], Step [100/391] Loss: 1.9023\n",
            "Epoch [1/80], Step [200/391] Loss: 1.9064\n",
            "Epoch [1/80], Step [300/391] Loss: 1.9327\n",
            "train_err: 0.72784 test_err: 0.7265\n",
            "Epoch [2/80], Step [100/391] Loss: 1.7070\n",
            "Epoch [2/80], Step [200/391] Loss: 1.5256\n",
            "Epoch [2/80], Step [300/391] Loss: 1.6693\n",
            "train_err: 0.59822 test_err: 0.5968\n",
            "Epoch [3/80], Step [100/391] Loss: 1.6517\n",
            "Epoch [3/80], Step [200/391] Loss: 1.6581\n",
            "Epoch [3/80], Step [300/391] Loss: 1.1921\n",
            "train_err: 0.55412 test_err: 0.5499\n",
            "Epoch [4/80], Step [100/391] Loss: 1.3512\n",
            "Epoch [4/80], Step [200/391] Loss: 1.2976\n",
            "Epoch [4/80], Step [300/391] Loss: 1.3022\n",
            "train_err: 0.47572 test_err: 0.4813\n",
            "Epoch [5/80], Step [100/391] Loss: 1.3848\n",
            "Epoch [5/80], Step [200/391] Loss: 1.2698\n",
            "Epoch [5/80], Step [300/391] Loss: 1.3730\n",
            "train_err: 0.50132 test_err: 0.5104\n",
            "Epoch [6/80], Step [100/391] Loss: 1.1100\n",
            "Epoch [6/80], Step [200/391] Loss: 1.1609\n",
            "Epoch [6/80], Step [300/391] Loss: 1.0006\n",
            "train_err: 0.42386 test_err: 0.4382\n",
            "Epoch [7/80], Step [100/391] Loss: 1.1979\n",
            "Epoch [7/80], Step [200/391] Loss: 0.9305\n",
            "Epoch [7/80], Step [300/391] Loss: 0.7655\n",
            "train_err: 0.37266 test_err: 0.3788\n",
            "Epoch [8/80], Step [100/391] Loss: 0.8493\n",
            "Epoch [8/80], Step [200/391] Loss: 0.8103\n",
            "Epoch [8/80], Step [300/391] Loss: 0.8598\n",
            "train_err: 0.31716 test_err: 0.3335\n",
            "Epoch [9/80], Step [100/391] Loss: 0.9041\n",
            "Epoch [9/80], Step [200/391] Loss: 0.7160\n",
            "Epoch [9/80], Step [300/391] Loss: 0.8565\n",
            "train_err: 0.3025 test_err: 0.3352\n",
            "Epoch [10/80], Step [100/391] Loss: 0.6200\n",
            "Epoch [10/80], Step [200/391] Loss: 0.8180\n",
            "Epoch [10/80], Step [300/391] Loss: 0.8433\n",
            "train_err: 0.27186 test_err: 0.3023\n",
            "Epoch [11/80], Step [100/391] Loss: 0.6846\n",
            "Epoch [11/80], Step [200/391] Loss: 0.6084\n",
            "Epoch [11/80], Step [300/391] Loss: 0.8547\n",
            "train_err: 0.29492 test_err: 0.323\n",
            "Epoch [12/80], Step [100/391] Loss: 0.7062\n",
            "Epoch [12/80], Step [200/391] Loss: 0.6156\n",
            "Epoch [12/80], Step [300/391] Loss: 0.5610\n",
            "train_err: 0.23638 test_err: 0.2801\n",
            "Epoch [13/80], Step [100/391] Loss: 0.5263\n",
            "Epoch [13/80], Step [200/391] Loss: 0.6766\n",
            "Epoch [13/80], Step [300/391] Loss: 0.4237\n",
            "train_err: 0.20094 test_err: 0.2502\n",
            "Epoch [14/80], Step [100/391] Loss: 0.6167\n",
            "Epoch [14/80], Step [200/391] Loss: 0.4731\n",
            "Epoch [14/80], Step [300/391] Loss: 0.4545\n",
            "train_err: 0.1911 test_err: 0.2414\n",
            "Epoch [15/80], Step [100/391] Loss: 0.5703\n",
            "Epoch [15/80], Step [200/391] Loss: 0.5014\n",
            "Epoch [15/80], Step [300/391] Loss: 0.6228\n",
            "train_err: 0.21228 test_err: 0.2657\n",
            "Epoch [16/80], Step [100/391] Loss: 0.5649\n",
            "Epoch [16/80], Step [200/391] Loss: 0.4650\n",
            "Epoch [16/80], Step [300/391] Loss: 0.5218\n",
            "train_err: 0.2143 test_err: 0.2705\n",
            "Epoch [17/80], Step [100/391] Loss: 0.5744\n",
            "Epoch [17/80], Step [200/391] Loss: 0.4345\n",
            "Epoch [17/80], Step [300/391] Loss: 0.6002\n",
            "train_err: 0.23994 test_err: 0.2945\n",
            "Epoch [18/80], Step [100/391] Loss: 0.4721\n",
            "Epoch [18/80], Step [200/391] Loss: 0.5255\n",
            "Epoch [18/80], Step [300/391] Loss: 0.5263\n",
            "train_err: 0.1823 test_err: 0.2502\n",
            "Epoch [19/80], Step [100/391] Loss: 0.4178\n",
            "Epoch [19/80], Step [200/391] Loss: 0.4747\n",
            "Epoch [19/80], Step [300/391] Loss: 0.3859\n",
            "train_err: 0.26754 test_err: 0.3162\n",
            "Epoch [20/80], Step [100/391] Loss: 0.4945\n",
            "Epoch [20/80], Step [200/391] Loss: 0.4228\n",
            "Epoch [20/80], Step [300/391] Loss: 0.4832\n",
            "train_err: 0.18098 test_err: 0.2556\n",
            "Epoch [21/80], Step [100/391] Loss: 0.3798\n",
            "Epoch [21/80], Step [200/391] Loss: 0.4362\n",
            "Epoch [21/80], Step [300/391] Loss: 0.2494\n",
            "train_err: 0.21638 test_err: 0.2862\n",
            "Epoch [22/80], Step [100/391] Loss: 0.3444\n",
            "Epoch [22/80], Step [200/391] Loss: 0.3989\n",
            "Epoch [22/80], Step [300/391] Loss: 0.3029\n",
            "train_err: 0.15442 test_err: 0.2344\n",
            "Epoch [23/80], Step [100/391] Loss: 0.3939\n",
            "Epoch [23/80], Step [200/391] Loss: 0.4785\n",
            "Epoch [23/80], Step [300/391] Loss: 0.2649\n",
            "train_err: 0.26114 test_err: 0.3228\n",
            "Epoch [24/80], Step [100/391] Loss: 0.2318\n",
            "Epoch [24/80], Step [200/391] Loss: 0.4118\n",
            "Epoch [24/80], Step [300/391] Loss: 0.4173\n",
            "train_err: 0.15936 test_err: 0.2514\n",
            "Epoch [25/80], Step [100/391] Loss: 0.3504\n",
            "Epoch [25/80], Step [200/391] Loss: 0.3646\n",
            "Epoch [25/80], Step [300/391] Loss: 0.3824\n",
            "train_err: 0.12212 test_err: 0.2223\n",
            "Epoch [26/80], Step [100/391] Loss: 0.3275\n",
            "Epoch [26/80], Step [200/391] Loss: 0.4474\n",
            "Epoch [26/80], Step [300/391] Loss: 0.3862\n",
            "train_err: 0.13168 test_err: 0.2253\n",
            "Epoch [27/80], Step [100/391] Loss: 0.3573\n",
            "Epoch [27/80], Step [200/391] Loss: 0.3946\n",
            "Epoch [27/80], Step [300/391] Loss: 0.2564\n",
            "train_err: 0.1512 test_err: 0.251\n",
            "Epoch [28/80], Step [100/391] Loss: 0.2867\n",
            "Epoch [28/80], Step [200/391] Loss: 0.3690\n",
            "Epoch [28/80], Step [300/391] Loss: 0.4257\n",
            "train_err: 0.16518 test_err: 0.2606\n",
            "Epoch [29/80], Step [100/391] Loss: 0.2940\n",
            "Epoch [29/80], Step [200/391] Loss: 0.3378\n",
            "Epoch [29/80], Step [300/391] Loss: 0.3824\n",
            "train_err: 0.14386 test_err: 0.2428\n",
            "Epoch [30/80], Step [100/391] Loss: 0.2305\n",
            "Epoch [30/80], Step [200/391] Loss: 0.3443\n",
            "Epoch [30/80], Step [300/391] Loss: 0.3358\n",
            "train_err: 0.17214 test_err: 0.2708\n",
            "Epoch [31/80], Step [100/391] Loss: 0.3283\n",
            "Epoch [31/80], Step [200/391] Loss: 0.2340\n",
            "Epoch [31/80], Step [300/391] Loss: 0.2791\n",
            "train_err: 0.18716 test_err: 0.2686\n",
            "Epoch [32/80], Step [100/391] Loss: 0.2595\n",
            "Epoch [32/80], Step [200/391] Loss: 0.2030\n",
            "Epoch [32/80], Step [300/391] Loss: 0.3591\n",
            "train_err: 0.18952 test_err: 0.2828\n",
            "Epoch [33/80], Step [100/391] Loss: 0.3405\n",
            "Epoch [33/80], Step [200/391] Loss: 0.2901\n",
            "Epoch [33/80], Step [300/391] Loss: 0.3183\n",
            "train_err: 0.09852 test_err: 0.2194\n",
            "Epoch [34/80], Step [100/391] Loss: 0.1995\n",
            "Epoch [34/80], Step [200/391] Loss: 0.3446\n",
            "Epoch [34/80], Step [300/391] Loss: 0.1829\n",
            "train_err: 0.13044 test_err: 0.2377\n",
            "Epoch [35/80], Step [100/391] Loss: 0.2543\n",
            "Epoch [35/80], Step [200/391] Loss: 0.2452\n",
            "Epoch [35/80], Step [300/391] Loss: 0.3434\n",
            "train_err: 0.12214 test_err: 0.2335\n",
            "Epoch [36/80], Step [100/391] Loss: 0.2064\n",
            "Epoch [36/80], Step [200/391] Loss: 0.2491\n",
            "Epoch [36/80], Step [300/391] Loss: 0.2137\n",
            "train_err: 0.09238 test_err: 0.2192\n",
            "Epoch [37/80], Step [100/391] Loss: 0.2094\n",
            "Epoch [37/80], Step [200/391] Loss: 0.2664\n",
            "Epoch [37/80], Step [300/391] Loss: 0.3425\n",
            "train_err: 0.10776 test_err: 0.2292\n",
            "Epoch [38/80], Step [100/391] Loss: 0.3508\n",
            "Epoch [38/80], Step [200/391] Loss: 0.3519\n",
            "Epoch [38/80], Step [300/391] Loss: 0.2748\n",
            "train_err: 0.08756 test_err: 0.2068\n",
            "Epoch [39/80], Step [100/391] Loss: 0.2500\n",
            "Epoch [39/80], Step [200/391] Loss: 0.3309\n",
            "Epoch [39/80], Step [300/391] Loss: 0.3025\n",
            "train_err: 0.12462 test_err: 0.2403\n",
            "Epoch [40/80], Step [100/391] Loss: 0.1108\n",
            "Epoch [40/80], Step [200/391] Loss: 0.3829\n",
            "Epoch [40/80], Step [300/391] Loss: 0.2776\n",
            "train_err: 0.17174 test_err: 0.2723\n",
            "Epoch [41/80], Step [100/391] Loss: 0.1736\n",
            "Epoch [41/80], Step [200/391] Loss: 0.2748\n",
            "Epoch [41/80], Step [300/391] Loss: 0.2832\n",
            "train_err: 0.1006 test_err: 0.2278\n",
            "Epoch [42/80], Step [100/391] Loss: 0.2217\n",
            "Epoch [42/80], Step [200/391] Loss: 0.2884\n",
            "Epoch [42/80], Step [300/391] Loss: 0.2864\n",
            "train_err: 0.14238 test_err: 0.2476\n",
            "Epoch [43/80], Step [100/391] Loss: 0.2434\n",
            "Epoch [43/80], Step [200/391] Loss: 0.2599\n",
            "Epoch [43/80], Step [300/391] Loss: 0.2524\n",
            "train_err: 0.1641 test_err: 0.2676\n",
            "Epoch [44/80], Step [100/391] Loss: 0.1721\n",
            "Epoch [44/80], Step [200/391] Loss: 0.1393\n",
            "Epoch [44/80], Step [300/391] Loss: 0.2096\n",
            "train_err: 0.18372 test_err: 0.2852\n",
            "Epoch [45/80], Step [100/391] Loss: 0.0803\n",
            "Epoch [45/80], Step [200/391] Loss: 0.2515\n",
            "Epoch [45/80], Step [300/391] Loss: 0.2747\n",
            "train_err: 0.08812 test_err: 0.2235\n",
            "Epoch [46/80], Step [100/391] Loss: 0.1779\n",
            "Epoch [46/80], Step [200/391] Loss: 0.2148\n",
            "Epoch [46/80], Step [300/391] Loss: 0.2445\n",
            "train_err: 0.10938 test_err: 0.2391\n",
            "Epoch [47/80], Step [100/391] Loss: 0.3091\n",
            "Epoch [47/80], Step [200/391] Loss: 0.2392\n",
            "Epoch [47/80], Step [300/391] Loss: 0.2733\n",
            "train_err: 0.13852 test_err: 0.2542\n",
            "Epoch [48/80], Step [100/391] Loss: 0.2621\n",
            "Epoch [48/80], Step [200/391] Loss: 0.2042\n",
            "Epoch [48/80], Step [300/391] Loss: 0.1548\n",
            "train_err: 0.1154 test_err: 0.2315\n",
            "Epoch [49/80], Step [100/391] Loss: 0.2285\n",
            "Epoch [49/80], Step [200/391] Loss: 0.1581\n",
            "Epoch [49/80], Step [300/391] Loss: 0.2854\n",
            "train_err: 0.29392 test_err: 0.3701\n",
            "Epoch [50/80], Step [100/391] Loss: 0.1702\n",
            "Epoch [50/80], Step [200/391] Loss: 0.2313\n",
            "Epoch [50/80], Step [300/391] Loss: 0.2237\n",
            "train_err: 0.10962 test_err: 0.2371\n",
            "Epoch [51/80], Step [100/391] Loss: 0.1232\n",
            "Epoch [51/80], Step [200/391] Loss: 0.2591\n",
            "Epoch [51/80], Step [300/391] Loss: 0.1739\n",
            "train_err: 0.10642 test_err: 0.2308\n",
            "Epoch [52/80], Step [100/391] Loss: 0.2053\n",
            "Epoch [52/80], Step [200/391] Loss: 0.2177\n",
            "Epoch [52/80], Step [300/391] Loss: 0.2480\n",
            "train_err: 0.13168 test_err: 0.254\n",
            "Epoch [53/80], Step [100/391] Loss: 0.1702\n",
            "Epoch [53/80], Step [200/391] Loss: 0.1660\n",
            "Epoch [53/80], Step [300/391] Loss: 0.1302\n",
            "train_err: 0.06622 test_err: 0.2065\n",
            "Epoch [54/80], Step [100/391] Loss: 0.2050\n",
            "Epoch [54/80], Step [200/391] Loss: 0.1190\n",
            "Epoch [54/80], Step [300/391] Loss: 0.1813\n",
            "train_err: 0.08304 test_err: 0.2137\n",
            "Epoch [55/80], Step [100/391] Loss: 0.2362\n",
            "Epoch [55/80], Step [200/391] Loss: 0.1940\n",
            "Epoch [55/80], Step [300/391] Loss: 0.2545\n",
            "train_err: 0.10116 test_err: 0.2267\n",
            "Epoch [56/80], Step [100/391] Loss: 0.1486\n",
            "Epoch [56/80], Step [200/391] Loss: 0.1881\n",
            "Epoch [56/80], Step [300/391] Loss: 0.2108\n",
            "train_err: 0.11372 test_err: 0.2467\n",
            "Epoch [57/80], Step [100/391] Loss: 0.1922\n",
            "Epoch [57/80], Step [200/391] Loss: 0.2572\n",
            "Epoch [57/80], Step [300/391] Loss: 0.1951\n",
            "train_err: 0.178 test_err: 0.2854\n",
            "Epoch [58/80], Step [100/391] Loss: 0.1846\n",
            "Epoch [58/80], Step [200/391] Loss: 0.1422\n",
            "Epoch [58/80], Step [300/391] Loss: 0.2337\n",
            "train_err: 0.0678 test_err: 0.2091\n",
            "Epoch [59/80], Step [100/391] Loss: 0.1470\n",
            "Epoch [59/80], Step [200/391] Loss: 0.2419\n",
            "Epoch [59/80], Step [300/391] Loss: 0.3238\n",
            "train_err: 0.1104 test_err: 0.2316\n",
            "Epoch [60/80], Step [100/391] Loss: 0.1484\n",
            "Epoch [60/80], Step [200/391] Loss: 0.2262\n",
            "Epoch [60/80], Step [300/391] Loss: 0.3273\n",
            "train_err: 0.0828 test_err: 0.222\n",
            "Epoch [61/80], Step [100/391] Loss: 0.2093\n",
            "Epoch [61/80], Step [200/391] Loss: 0.2000\n",
            "Epoch [61/80], Step [300/391] Loss: 0.2604\n",
            "train_err: 0.17628 test_err: 0.2886\n",
            "Epoch [62/80], Step [100/391] Loss: 0.1300\n",
            "Epoch [62/80], Step [200/391] Loss: 0.1089\n",
            "Epoch [62/80], Step [300/391] Loss: 0.1632\n",
            "train_err: 0.16514 test_err: 0.2786\n",
            "Epoch [63/80], Step [100/391] Loss: 0.1551\n",
            "Epoch [63/80], Step [200/391] Loss: 0.2006\n",
            "Epoch [63/80], Step [300/391] Loss: 0.1057\n",
            "train_err: 0.0699 test_err: 0.2062\n",
            "Epoch [64/80], Step [100/391] Loss: 0.0821\n",
            "Epoch [64/80], Step [200/391] Loss: 0.1319\n",
            "Epoch [64/80], Step [300/391] Loss: 0.1510\n",
            "train_err: 0.0866 test_err: 0.2153\n",
            "Epoch [65/80], Step [100/391] Loss: 0.1619\n",
            "Epoch [65/80], Step [200/391] Loss: 0.2844\n",
            "Epoch [65/80], Step [300/391] Loss: 0.2069\n",
            "train_err: 0.13812 test_err: 0.2544\n",
            "Epoch [66/80], Step [100/391] Loss: 0.2237\n",
            "Epoch [66/80], Step [200/391] Loss: 0.0853\n",
            "Epoch [66/80], Step [300/391] Loss: 0.2770\n",
            "train_err: 0.08074 test_err: 0.2178\n",
            "Epoch [67/80], Step [100/391] Loss: 0.0927\n",
            "Epoch [67/80], Step [200/391] Loss: 0.2076\n",
            "Epoch [67/80], Step [300/391] Loss: 0.3438\n",
            "train_err: 0.06496 test_err: 0.2132\n",
            "Epoch [68/80], Step [100/391] Loss: 0.1379\n",
            "Epoch [68/80], Step [200/391] Loss: 0.1131\n",
            "Epoch [68/80], Step [300/391] Loss: 0.2975\n",
            "train_err: 0.11156 test_err: 0.2458\n",
            "Epoch [69/80], Step [100/391] Loss: 0.2015\n",
            "Epoch [69/80], Step [200/391] Loss: 0.1048\n",
            "Epoch [69/80], Step [300/391] Loss: 0.2157\n",
            "train_err: 0.11992 test_err: 0.2483\n",
            "Epoch [70/80], Step [100/391] Loss: 0.1121\n",
            "Epoch [70/80], Step [200/391] Loss: 0.2548\n",
            "Epoch [70/80], Step [300/391] Loss: 0.2140\n",
            "train_err: 0.08974 test_err: 0.2287\n",
            "Epoch [71/80], Step [100/391] Loss: 0.1571\n",
            "Epoch [71/80], Step [200/391] Loss: 0.2121\n",
            "Epoch [71/80], Step [300/391] Loss: 0.2104\n",
            "train_err: 0.1265 test_err: 0.2586\n",
            "Epoch [72/80], Step [100/391] Loss: 0.2012\n",
            "Epoch [72/80], Step [200/391] Loss: 0.1967\n",
            "Epoch [72/80], Step [300/391] Loss: 0.1665\n",
            "train_err: 0.0729 test_err: 0.2161\n",
            "Epoch [73/80], Step [100/391] Loss: 0.1123\n",
            "Epoch [73/80], Step [200/391] Loss: 0.2661\n",
            "Epoch [73/80], Step [300/391] Loss: 0.2409\n",
            "train_err: 0.18952 test_err: 0.2963\n",
            "Epoch [74/80], Step [100/391] Loss: 0.1273\n",
            "Epoch [74/80], Step [200/391] Loss: 0.2090\n"
          ]
        }
      ]
    },
    {
      "cell_type": "markdown",
      "source": [
        "### Plain44"
      ],
      "metadata": {
        "id": "hXIcyFaKJJa8"
      }
    },
    {
      "cell_type": "code",
      "metadata": {
        "id": "-MnJrmEHSp9V"
      },
      "source": [
        "Plainnetwork44Model = createPlainModelWithDepth(44)\n",
        "trainModel(Plainnetwork44Model,44,False)\n",
        "testModel(Plainnetwork44Model)\n",
        "saveModel(Plainnetwork44Model,44,False)"
      ],
      "execution_count": null,
      "outputs": []
    },
    {
      "cell_type": "markdown",
      "source": [
        "### Plain56"
      ],
      "metadata": {
        "id": "XWbrOuQvJMqt"
      }
    },
    {
      "cell_type": "code",
      "metadata": {
        "id": "ePBfRVHtSpvt"
      },
      "source": [
        "Plainnetwork56Model = createPlainModelWithDepth(56)\n",
        "trainModel(Plainnetwork56Model,56,False)\n",
        "testModel(Plainnetwork56Model)\n",
        "saveModel(Plainnetwork56Model,56,False)"
      ],
      "execution_count": null,
      "outputs": []
    },
    {
      "cell_type": "markdown",
      "metadata": {
        "id": "x8fa9bnHD2Sd"
      },
      "source": [
        "###Classification error and the number of parameters of each architecture"
      ]
    },
    {
      "cell_type": "code",
      "metadata": {
        "id": "WQVjcEMxC-g1"
      },
      "source": [
        "calculateModelParams(Plainnetwork20Model)\n",
        "calculateModelParams(Plainnetwork32Model)\n",
        "calculateModelParams(Plainnetwork44Model)\n",
        "calculateModelParams(Plainnetwork56Model)"
      ],
      "execution_count": null,
      "outputs": []
    },
    {
      "cell_type": "code",
      "metadata": {
        "id": "91LREsTa_2D1"
      },
      "source": [
        "ns  = [3, 5, 7, 9]\n",
        "clr = ['y', 'c', 'g', 'r']\n",
        "\n",
        "\n",
        "plainnet_dfs = [pd.read_csv(f'results/Plainnet{6*n+2}.csv') for n in ns]\n",
        "fig = plt.figure(figsize=(20, 10))\n",
        "plt.axis([0, 80, 0, 100])\n",
        "\n",
        "\n",
        "for i in range(len(ns)):\n",
        "    plt.plot(plainnet_dfs[i]['epoch'], plainnet_dfs[i]['train_err']*100, f'{clr[i]}--',\n",
        "             label=f'plain-{6*ns[i]+2} train')\n",
        "    plt.plot(plainnet_dfs[i]['epoch'], plainnet_dfs[i]['test_err']*100, f'{clr[i]}',\n",
        "             label=f'plain-{6*ns[i]+2} test')\n",
        "\n",
        "plt.title('Comparison of four plain convolutional networks with 20, 32, 44 and 56 layers.')\n",
        "plt.legend(loc='upper right')\n",
        "plt.xlabel('epochs')\n",
        "plt.ylabel('error (%)')\n",
        "plt.axhline(10, color='black', alpha=0.5, dashes=(10., 10.))\n",
        "plt.axhline(5, color='black', alpha=0.5, dashes=(10., 10.));"
      ],
      "execution_count": null,
      "outputs": []
    },
    {
      "cell_type": "code",
      "metadata": {
        "id": "RSjzDKaQDR0W"
      },
      "source": [
        "bests = [df[df['test_err'] == df['test_err'].min()].iloc[0] for df in plainnet_dfs]\n",
        "bests_df= pd.concat(bests, axis=1).T\n",
        "bests_df['model'] = ['PlainNet20', 'PlainNet32', 'PlainNet44', 'PlainNet56']\n",
        "display(bests_df[['model', 'test_err']])"
      ],
      "execution_count": null,
      "outputs": []
    },
    {
      "cell_type": "markdown",
      "metadata": {
        "id": "raVwOJjP-Q5d"
      },
      "source": [
        " ##Q2) In the same Notebook, plot the classification error vs. the number of epochs for the above 4 ResNet architectures and in addition those generated by using deep CNN models without residual links (plain network presented at Figure 3middle of the above paper) of depth 20, 32, 44 and 56 layers, and"
      ]
    },
    {
      "cell_type": "code",
      "metadata": {
        "id": "VLFFlIwB-X92"
      },
      "source": [
        "ns  = [3, 5, 7, 9]\n",
        "clr = ['y', 'c', 'g', 'r']\n",
        "\n",
        "\n",
        "f, (ax1, ax2) = plt.subplots(1, 2, sharey=True, figsize=(25, 7))\n",
        "\n",
        "plainnet_dfs = [pd.read_csv(f'results/plainnet{6*n+2}.csv') for n in ns]\n",
        "resnet_dfs = [pd.read_csv(f'results/resnet{6*n+2}.csv') for n in ns]\n",
        "\n",
        "def plot_results(dfs, ax, title):\n",
        "    ax.axis([0, 80, 0, 100])\n",
        "    \n",
        "    for i in range(len(ns)):\n",
        "        ax.plot(dfs[i]['epoch'], dfs[i]['train_err']*100, f'{clr[i]}--',\n",
        "                 label=f'plain-{6*ns[i]+2} train')\n",
        "        ax.plot(dfs[i]['epoch'], dfs[i]['test_err']*100, f'{clr[i]}',\n",
        "                 label=f'plain-{6*ns[i]+2} test')\n",
        "    \n",
        "    ax.set_title(title)\n",
        "    ax.legend(loc='bottom left')\n",
        "    ax.set_xlabel('epochs')\n",
        "    ax.set_ylabel('error (%)')\n",
        "    ax.axhline(10, color='black', alpha=0.5, dashes=(10., 10.))\n",
        "    ax.axhline(5, color='black', alpha=0.5, dashes=(10., 10.));\n",
        "    \n",
        "plot_results(plainnet_dfs, ax1, 'Plain Networks')\n",
        "plot_results(resnet_dfs, ax2, 'Residual Networks')"
      ],
      "execution_count": null,
      "outputs": []
    }
  ]
}