{
  "nbformat": 4,
  "nbformat_minor": 0,
  "metadata": {
    "accelerator": "GPU",
    "colab": {
      "name": "Assignment_5.ipynb",
      "provenance": [],
      "collapsed_sections": [],
      "include_colab_link": true
    },
    "kernelspec": {
      "display_name": "Python 3",
      "name": "python3"
    },
    "language_info": {
      "name": "python"
    },
    "widgets": {
      "application/vnd.jupyter.widget-state+json": {
        "b4865083e0d848f0aa555b1d51736391": {
          "model_module": "@jupyter-widgets/controls",
          "model_name": "HBoxModel",
          "model_module_version": "1.5.0",
          "state": {
            "_view_name": "HBoxView",
            "_dom_classes": [],
            "_model_name": "HBoxModel",
            "_view_module": "@jupyter-widgets/controls",
            "_model_module_version": "1.5.0",
            "_view_count": null,
            "_view_module_version": "1.5.0",
            "box_style": "",
            "layout": "IPY_MODEL_e051f1b54a6449faaaae68c7bb899851",
            "_model_module": "@jupyter-widgets/controls",
            "children": [
              "IPY_MODEL_b8f2e64e13a241678dca8aef6fb60757",
              "IPY_MODEL_a06b740401c84a6b8e7bdca05f8c827b",
              "IPY_MODEL_a6de95828f6b4696a4dec90a223acecd"
            ]
          }
        },
        "e051f1b54a6449faaaae68c7bb899851": {
          "model_module": "@jupyter-widgets/base",
          "model_name": "LayoutModel",
          "model_module_version": "1.2.0",
          "state": {
            "_view_name": "LayoutView",
            "grid_template_rows": null,
            "right": null,
            "justify_content": null,
            "_view_module": "@jupyter-widgets/base",
            "overflow": null,
            "_model_module_version": "1.2.0",
            "_view_count": null,
            "flex_flow": null,
            "width": null,
            "min_width": null,
            "border": null,
            "align_items": null,
            "bottom": null,
            "_model_module": "@jupyter-widgets/base",
            "top": null,
            "grid_column": null,
            "overflow_y": null,
            "overflow_x": null,
            "grid_auto_flow": null,
            "grid_area": null,
            "grid_template_columns": null,
            "flex": null,
            "_model_name": "LayoutModel",
            "justify_items": null,
            "grid_row": null,
            "max_height": null,
            "align_content": null,
            "visibility": null,
            "align_self": null,
            "height": null,
            "min_height": null,
            "padding": null,
            "grid_auto_rows": null,
            "grid_gap": null,
            "max_width": null,
            "order": null,
            "_view_module_version": "1.2.0",
            "grid_template_areas": null,
            "object_position": null,
            "object_fit": null,
            "grid_auto_columns": null,
            "margin": null,
            "display": null,
            "left": null
          }
        },
        "b8f2e64e13a241678dca8aef6fb60757": {
          "model_module": "@jupyter-widgets/controls",
          "model_name": "HTMLModel",
          "model_module_version": "1.5.0",
          "state": {
            "_view_name": "HTMLView",
            "style": "IPY_MODEL_72233e1d775f464e9ca211b6d32774db",
            "_dom_classes": [],
            "description": "",
            "_model_name": "HTMLModel",
            "placeholder": "​",
            "_view_module": "@jupyter-widgets/controls",
            "_model_module_version": "1.5.0",
            "value": "",
            "_view_count": null,
            "_view_module_version": "1.5.0",
            "description_tooltip": null,
            "_model_module": "@jupyter-widgets/controls",
            "layout": "IPY_MODEL_81171c9ea4d2400394d1694d9ce01ff3"
          }
        },
        "a06b740401c84a6b8e7bdca05f8c827b": {
          "model_module": "@jupyter-widgets/controls",
          "model_name": "FloatProgressModel",
          "model_module_version": "1.5.0",
          "state": {
            "_view_name": "ProgressView",
            "style": "IPY_MODEL_7f6d3c08968a4f258092fed8c3f13463",
            "_dom_classes": [],
            "description": "",
            "_model_name": "FloatProgressModel",
            "bar_style": "success",
            "max": 170498071,
            "_view_module": "@jupyter-widgets/controls",
            "_model_module_version": "1.5.0",
            "value": 170498071,
            "_view_count": null,
            "_view_module_version": "1.5.0",
            "orientation": "horizontal",
            "min": 0,
            "description_tooltip": null,
            "_model_module": "@jupyter-widgets/controls",
            "layout": "IPY_MODEL_b393f87c959543af95d83f520940b301"
          }
        },
        "a6de95828f6b4696a4dec90a223acecd": {
          "model_module": "@jupyter-widgets/controls",
          "model_name": "HTMLModel",
          "model_module_version": "1.5.0",
          "state": {
            "_view_name": "HTMLView",
            "style": "IPY_MODEL_379b98bcc1404fdb88a710a9c2d8cb1b",
            "_dom_classes": [],
            "description": "",
            "_model_name": "HTMLModel",
            "placeholder": "​",
            "_view_module": "@jupyter-widgets/controls",
            "_model_module_version": "1.5.0",
            "value": " 170499072/? [00:03&lt;00:00, 47457599.95it/s]",
            "_view_count": null,
            "_view_module_version": "1.5.0",
            "description_tooltip": null,
            "_model_module": "@jupyter-widgets/controls",
            "layout": "IPY_MODEL_a8a5bd3546984ea599ca2277fd436af8"
          }
        },
        "72233e1d775f464e9ca211b6d32774db": {
          "model_module": "@jupyter-widgets/controls",
          "model_name": "DescriptionStyleModel",
          "model_module_version": "1.5.0",
          "state": {
            "_view_name": "StyleView",
            "_model_name": "DescriptionStyleModel",
            "description_width": "",
            "_view_module": "@jupyter-widgets/base",
            "_model_module_version": "1.5.0",
            "_view_count": null,
            "_view_module_version": "1.2.0",
            "_model_module": "@jupyter-widgets/controls"
          }
        },
        "81171c9ea4d2400394d1694d9ce01ff3": {
          "model_module": "@jupyter-widgets/base",
          "model_name": "LayoutModel",
          "model_module_version": "1.2.0",
          "state": {
            "_view_name": "LayoutView",
            "grid_template_rows": null,
            "right": null,
            "justify_content": null,
            "_view_module": "@jupyter-widgets/base",
            "overflow": null,
            "_model_module_version": "1.2.0",
            "_view_count": null,
            "flex_flow": null,
            "width": null,
            "min_width": null,
            "border": null,
            "align_items": null,
            "bottom": null,
            "_model_module": "@jupyter-widgets/base",
            "top": null,
            "grid_column": null,
            "overflow_y": null,
            "overflow_x": null,
            "grid_auto_flow": null,
            "grid_area": null,
            "grid_template_columns": null,
            "flex": null,
            "_model_name": "LayoutModel",
            "justify_items": null,
            "grid_row": null,
            "max_height": null,
            "align_content": null,
            "visibility": null,
            "align_self": null,
            "height": null,
            "min_height": null,
            "padding": null,
            "grid_auto_rows": null,
            "grid_gap": null,
            "max_width": null,
            "order": null,
            "_view_module_version": "1.2.0",
            "grid_template_areas": null,
            "object_position": null,
            "object_fit": null,
            "grid_auto_columns": null,
            "margin": null,
            "display": null,
            "left": null
          }
        },
        "7f6d3c08968a4f258092fed8c3f13463": {
          "model_module": "@jupyter-widgets/controls",
          "model_name": "ProgressStyleModel",
          "model_module_version": "1.5.0",
          "state": {
            "_view_name": "StyleView",
            "_model_name": "ProgressStyleModel",
            "description_width": "",
            "_view_module": "@jupyter-widgets/base",
            "_model_module_version": "1.5.0",
            "_view_count": null,
            "_view_module_version": "1.2.0",
            "bar_color": null,
            "_model_module": "@jupyter-widgets/controls"
          }
        },
        "b393f87c959543af95d83f520940b301": {
          "model_module": "@jupyter-widgets/base",
          "model_name": "LayoutModel",
          "model_module_version": "1.2.0",
          "state": {
            "_view_name": "LayoutView",
            "grid_template_rows": null,
            "right": null,
            "justify_content": null,
            "_view_module": "@jupyter-widgets/base",
            "overflow": null,
            "_model_module_version": "1.2.0",
            "_view_count": null,
            "flex_flow": null,
            "width": null,
            "min_width": null,
            "border": null,
            "align_items": null,
            "bottom": null,
            "_model_module": "@jupyter-widgets/base",
            "top": null,
            "grid_column": null,
            "overflow_y": null,
            "overflow_x": null,
            "grid_auto_flow": null,
            "grid_area": null,
            "grid_template_columns": null,
            "flex": null,
            "_model_name": "LayoutModel",
            "justify_items": null,
            "grid_row": null,
            "max_height": null,
            "align_content": null,
            "visibility": null,
            "align_self": null,
            "height": null,
            "min_height": null,
            "padding": null,
            "grid_auto_rows": null,
            "grid_gap": null,
            "max_width": null,
            "order": null,
            "_view_module_version": "1.2.0",
            "grid_template_areas": null,
            "object_position": null,
            "object_fit": null,
            "grid_auto_columns": null,
            "margin": null,
            "display": null,
            "left": null
          }
        },
        "379b98bcc1404fdb88a710a9c2d8cb1b": {
          "model_module": "@jupyter-widgets/controls",
          "model_name": "DescriptionStyleModel",
          "model_module_version": "1.5.0",
          "state": {
            "_view_name": "StyleView",
            "_model_name": "DescriptionStyleModel",
            "description_width": "",
            "_view_module": "@jupyter-widgets/base",
            "_model_module_version": "1.5.0",
            "_view_count": null,
            "_view_module_version": "1.2.0",
            "_model_module": "@jupyter-widgets/controls"
          }
        },
        "a8a5bd3546984ea599ca2277fd436af8": {
          "model_module": "@jupyter-widgets/base",
          "model_name": "LayoutModel",
          "model_module_version": "1.2.0",
          "state": {
            "_view_name": "LayoutView",
            "grid_template_rows": null,
            "right": null,
            "justify_content": null,
            "_view_module": "@jupyter-widgets/base",
            "overflow": null,
            "_model_module_version": "1.2.0",
            "_view_count": null,
            "flex_flow": null,
            "width": null,
            "min_width": null,
            "border": null,
            "align_items": null,
            "bottom": null,
            "_model_module": "@jupyter-widgets/base",
            "top": null,
            "grid_column": null,
            "overflow_y": null,
            "overflow_x": null,
            "grid_auto_flow": null,
            "grid_area": null,
            "grid_template_columns": null,
            "flex": null,
            "_model_name": "LayoutModel",
            "justify_items": null,
            "grid_row": null,
            "max_height": null,
            "align_content": null,
            "visibility": null,
            "align_self": null,
            "height": null,
            "min_height": null,
            "padding": null,
            "grid_auto_rows": null,
            "grid_gap": null,
            "max_width": null,
            "order": null,
            "_view_module_version": "1.2.0",
            "grid_template_areas": null,
            "object_position": null,
            "object_fit": null,
            "grid_auto_columns": null,
            "margin": null,
            "display": null,
            "left": null
          }
        }
      }
    }
  },
  "cells": [
    {
      "cell_type": "markdown",
      "metadata": {
        "id": "view-in-github",
        "colab_type": "text"
      },
      "source": [
        "<a href=\"https://colab.research.google.com/github/michaelwaheb/CIT690E-DeepLearning_Michael_Reda_191002/blob/main/Assignment_5.ipynb\" target=\"_parent\"><img src=\"https://colab.research.google.com/assets/colab-badge.svg\" alt=\"Open In Colab\"/></a>"
      ]
    },
    {
      "cell_type": "markdown",
      "metadata": {
        "id": "rbJRzY1l6Ixv"
      },
      "source": [
        "Q1) Write a Python Colab Notebook: Use CIFAR-10 dataset and ResNet20, ResNet-32, ResNet-44 and ResNet-56 architectures in Pytorch to compute the\n",
        "classification error and the number of parameters of each architecture as reported in\n",
        "Table 6 of the following paper:\n",
        "• He, Kaiming, Xiangyu Zhang, Shaoqing Ren, and Jian Sun. \"Deep residual learning for image\n",
        "recognition.\" In Proceedings of the IEEE CVPR 2016.\n",
        "• Please note you should train your models on CIFAR-10 training set from scratch using the\n",
        "instructions given in the above paper and in particular Section 4.2 and Figure 3."
      ]
    },
    {
      "cell_type": "code",
      "metadata": {
        "id": "rYkVbmmY56G2"
      },
      "source": [
        "import torch\n",
        "import torch.nn as nn\n",
        "from torchvision import transforms\n",
        "import torchvision.datasets as datasets\n",
        "import matplotlib.pyplot as plt\n",
        "import numpy as np\n",
        "import pandas as pd"
      ],
      "execution_count": 1,
      "outputs": []
    },
    {
      "cell_type": "code",
      "metadata": {
        "id": "uE8XE2847YwS"
      },
      "source": [
        "device = torch.device(\"cuda\" if torch.cuda.is_available() else \"cpu\")"
      ],
      "execution_count": 2,
      "outputs": []
    },
    {
      "cell_type": "code",
      "metadata": {
        "id": "h180D_ABMnLP"
      },
      "source": [
        "# Hyper-parameters\n",
        "num_epochs = 80\n",
        "batch_size = 128\n",
        "learning_rate = 0.1\n",
        "momentum = 0.9"
      ],
      "execution_count": 3,
      "outputs": []
    },
    {
      "cell_type": "markdown",
      "metadata": {
        "id": "b4i4okad7L75"
      },
      "source": [
        "Load the dataset CIFAR-10"
      ]
    },
    {
      "cell_type": "code",
      "metadata": {
        "colab": {
          "base_uri": "https://localhost:8080/",
          "height": 104,
          "referenced_widgets": [
            "b4865083e0d848f0aa555b1d51736391",
            "e051f1b54a6449faaaae68c7bb899851",
            "b8f2e64e13a241678dca8aef6fb60757",
            "a06b740401c84a6b8e7bdca05f8c827b",
            "a6de95828f6b4696a4dec90a223acecd",
            "72233e1d775f464e9ca211b6d32774db",
            "81171c9ea4d2400394d1694d9ce01ff3",
            "7f6d3c08968a4f258092fed8c3f13463",
            "b393f87c959543af95d83f520940b301",
            "379b98bcc1404fdb88a710a9c2d8cb1b",
            "a8a5bd3546984ea599ca2277fd436af8"
          ]
        },
        "id": "CJlAGqGa7LDF",
        "outputId": "7661d644-4528-46b8-8a58-f5b3dd3f4a68"
      },
      "source": [
        "cifer10_trainset = datasets.CIFAR10(root='./data', train=True, download=True, transform=transforms.Compose([transforms.ToTensor()]))\n",
        "cifer10_testset = datasets.CIFAR10(root='./data', train=False, download=True, transform=transforms.Compose([transforms.ToTensor()]))"
      ],
      "execution_count": 4,
      "outputs": [
        {
          "output_type": "stream",
          "name": "stdout",
          "text": [
            "Downloading https://www.cs.toronto.edu/~kriz/cifar-10-python.tar.gz to ./data/cifar-10-python.tar.gz\n"
          ]
        },
        {
          "output_type": "display_data",
          "data": {
            "application/vnd.jupyter.widget-view+json": {
              "model_id": "b4865083e0d848f0aa555b1d51736391",
              "version_minor": 0,
              "version_major": 2
            },
            "text/plain": [
              "  0%|          | 0/170498071 [00:00<?, ?it/s]"
            ]
          },
          "metadata": {}
        },
        {
          "output_type": "stream",
          "name": "stdout",
          "text": [
            "Extracting ./data/cifar-10-python.tar.gz to ./data\n",
            "Files already downloaded and verified\n"
          ]
        }
      ]
    },
    {
      "cell_type": "code",
      "metadata": {
        "id": "5FX3Ne5p8MSW",
        "colab": {
          "base_uri": "https://localhost:8080/"
        },
        "outputId": "fa98ad3e-d2d0-40ff-ebd5-0e4c993f1026"
      },
      "source": [
        "train_dataloader = torch.utils.data.DataLoader(cifer10_trainset, batch_size=batch_size, shuffle=True)\n",
        "test_dataloader = torch.utils.data.DataLoader(cifer10_testset, batch_size=batch_size, shuffle=False)\n",
        "\n",
        "print(\"Training dataset size: \", len(cifer10_trainset))\n",
        "print(\"Testing dataset size: \", len(cifer10_testset))"
      ],
      "execution_count": 5,
      "outputs": [
        {
          "output_type": "stream",
          "name": "stdout",
          "text": [
            "Training dataset size:  50000\n",
            "Testing dataset size:  10000\n"
          ]
        }
      ]
    },
    {
      "cell_type": "markdown",
      "metadata": {
        "id": "1QGEuLE8D7GP"
      },
      "source": [
        "###Resnet"
      ]
    },
    {
      "cell_type": "code",
      "metadata": {
        "id": "0tS5YM70KQa8"
      },
      "source": [
        "# 3x3 convolution\n",
        "def conv3x3(in_channels, out_channels, stride=1):\n",
        "    return nn.Conv2d(in_channels, out_channels, kernel_size=3, \n",
        "                     stride=stride, padding=1, bias=False)\n",
        "\n",
        "# Residual block\n",
        "class ResidualBlock(nn.Module):\n",
        "    def __init__(self, in_channels, out_channels, stride=1, downsample=None):\n",
        "        super(ResidualBlock, self).__init__()\n",
        "        self.conv1 = conv3x3(in_channels, out_channels, stride)\n",
        "        self.bn1 = nn.BatchNorm2d(out_channels)\n",
        "        self.relu = nn.ReLU(inplace=True)\n",
        "        self.conv2 = conv3x3(out_channels, out_channels)\n",
        "        self.bn2 = nn.BatchNorm2d(out_channels)\n",
        "        self.downsample = downsample\n",
        "        \n",
        "    def forward(self, x):\n",
        "        residual = x\n",
        "        out = self.conv1(x)\n",
        "        out = self.bn1(out)\n",
        "        out = self.relu(out)\n",
        "        out = self.conv2(out)\n",
        "        out = self.bn2(out)\n",
        "        if self.downsample:\n",
        "            residual = self.downsample(x)\n",
        "        out += residual\n",
        "        out = self.relu(out)\n",
        "        return out\n",
        "\n",
        "# ResNet\n",
        "class ResNet(nn.Module):\n",
        "    def __init__(self, block, layers, num_classes=10):\n",
        "        super(ResNet, self).__init__()\n",
        "        self.in_channels = 16\n",
        "        self.conv = conv3x3(3, 16)\n",
        "        self.bn = nn.BatchNorm2d(16)\n",
        "        self.relu = nn.ReLU(inplace=True)\n",
        "        self.layer1 = self.make_layer(block, 16, layers[0])\n",
        "        self.layer2 = self.make_layer(block, 32, layers[1], 2)\n",
        "        self.layer3 = self.make_layer(block, 64, layers[2], 2)\n",
        "        self.avg_pool = nn.AvgPool2d(8)\n",
        "        self.fc = nn.Linear(64, num_classes)\n",
        "        \n",
        "    def make_layer(self, block, out_channels, blocks, stride=1):\n",
        "        downsample = None\n",
        "        if (stride != 1) or (self.in_channels != out_channels):\n",
        "            downsample = nn.Sequential(\n",
        "                conv3x3(self.in_channels, out_channels, stride=stride),\n",
        "                nn.BatchNorm2d(out_channels))\n",
        "        layers = []\n",
        "        layers.append(block(self.in_channels, out_channels, stride, downsample))\n",
        "        self.in_channels = out_channels\n",
        "        for i in range(1, blocks):\n",
        "            layers.append(block(out_channels, out_channels))\n",
        "        return nn.Sequential(*layers)\n",
        "    \n",
        "    def forward(self, x):\n",
        "        out = self.conv(x)\n",
        "        out = self.bn(out)\n",
        "        out = self.relu(out)\n",
        "        out = self.layer1(out)\n",
        "        out = self.layer2(out)\n",
        "        out = self.layer3(out)\n",
        "        out = self.avg_pool(out)\n",
        "        out = out.view(out.size(0), -1)\n",
        "        out = self.fc(out)\n",
        "        return out\n",
        "    "
      ],
      "execution_count": 6,
      "outputs": []
    },
    {
      "cell_type": "code",
      "metadata": {
        "id": "LTnQ_7qPRswG"
      },
      "source": [
        "def createResnetModelWithDepth(depth):\n",
        "  noOfBlocks = int((depth-2/6))\n",
        "  return ResNet(ResidualBlock, [noOfBlocks, noOfBlocks, noOfBlocks]).to(device)"
      ],
      "execution_count": 7,
      "outputs": []
    },
    {
      "cell_type": "code",
      "metadata": {
        "id": "UxUaxMn5NAO1"
      },
      "source": [
        "# For updating learning rate\n",
        "def update_lr(optimizer, lr):    \n",
        "    for param_group in optimizer.param_groups:\n",
        "        param_group['lr'] = lr"
      ],
      "execution_count": 8,
      "outputs": []
    },
    {
      "cell_type": "code",
      "metadata": {
        "id": "B8ZGqesQ0w5d"
      },
      "source": [
        "def evaluate(model, data_loader, device):\n",
        "    y_true = np.array([], dtype=np.int)\n",
        "    y_pred = np.array([], dtype=np.int)\n",
        "    \n",
        "    with torch.no_grad():\n",
        "      for data in data_loader:\n",
        "          inputs, labels = data\n",
        "          inputs, labels = inputs.to(device), labels.to(device)\n",
        "          outputs = model(inputs)\n",
        "          _, predicted = torch.max(outputs.data, 1)\n",
        "\n",
        "          y_true = np.concatenate((y_true, labels.cpu()))\n",
        "          y_pred = np.concatenate((y_pred, predicted.cpu()))\n",
        "    \n",
        "    error = np.sum(y_pred != y_true) / len(y_true)\n",
        "    return error\n"
      ],
      "execution_count": 9,
      "outputs": []
    },
    {
      "cell_type": "code",
      "metadata": {
        "id": "HC4nxMq4N_el"
      },
      "source": [
        "# Train the model\n",
        "import os\n",
        "\n",
        "def trainModel(model,depth):\n",
        "  # Loss and optimizer\n",
        "  criterion = nn.CrossEntropyLoss()\n",
        "  optimizer = torch.optim.SGD(model.parameters(), lr=learning_rate,momentum=0.9,weight_decay=1e-4)\n",
        "\n",
        "# Run on GPU if available\n",
        "  device = torch.device(\"cuda:0\" if torch.cuda.is_available() else \"cpu\")\n",
        "  print(device)\n",
        "  model.to(device)\n",
        "\n",
        "  outdir ='./results'\n",
        "  if not os.path.exists(outdir):\n",
        "    os.mkdir(outdir)\n",
        "\n",
        "  cols = ['epoch', 'train_loss', 'train_err', 'test_err']\n",
        "  results_df = pd.DataFrame(columns=cols).set_index('epoch')\n",
        "  \n",
        "  total_step = len(train_dataloader)\n",
        "  curr_lr = learning_rate\n",
        "  results_file = f'results/resnet{depth}.csv'\n",
        "\n",
        "  for epoch in range(num_epochs):\n",
        "    running_loss  = 0.0\n",
        "    best_test_err = 1.0\n",
        "    model.train()\n",
        "\n",
        "    for i, (images, labels) in enumerate(train_dataloader):\n",
        "        images = images.to(device)\n",
        "        labels = labels.to(device)\n",
        "        \n",
        "        #  optimize\n",
        "        optimizer.zero_grad()\n",
        "\n",
        "        # Forward pass\n",
        "        outputs = model(images)\n",
        "        loss = criterion(outputs, labels)\n",
        "        #Backward\n",
        "        loss.backward()\n",
        "        optimizer.step()\n",
        "        \n",
        "        # print average loss for last 50 mini-batches\n",
        "        running_loss += loss.item()\n",
        "\n",
        "        if (i+1) % 100 == 0:\n",
        "            print (\"Epoch [{}/{}], Step [{}/{}] Loss: {:.4f}\"\n",
        "                   .format(epoch+1, num_epochs, i+1, total_step, loss.item()))\n",
        "    \n",
        "    # # Decay learning rate\n",
        "    # if (epoch+1) % 20 == 0:\n",
        "    #     curr_lr /= 3\n",
        "    #     update_lr(optimizer, curr_lr)\n",
        "    \n",
        "    model.eval()\n",
        "\n",
        "    train_loss = loss.item()\n",
        "    train_err = evaluate(model, train_dataloader, device)\n",
        "    test_err = evaluate(model, test_dataloader, device)\n",
        "    results_df.loc[epoch] = [train_loss, train_err, test_err]\n",
        "    results_df.to_csv(results_file)\n",
        "    print(f'train_err: {train_err} test_err: {test_err}')\n",
        "\n",
        "    model.eval()\n",
        "\n",
        "  return train_loss"
      ],
      "execution_count": 10,
      "outputs": []
    },
    {
      "cell_type": "code",
      "metadata": {
        "id": "naboNYuBUA89"
      },
      "source": [
        "# Test the model\n",
        "def testModel(model):\n",
        "  model.eval()\n",
        "  with torch.no_grad():\n",
        "    correct = 0\n",
        "    total = 0\n",
        "    for images, labels in test_dataloader:\n",
        "        images = images.to(device)\n",
        "        labels = labels.to(device)\n",
        "        outputs = model(images)\n",
        "        _, predicted = torch.max(outputs.data, 1)\n",
        "        total += labels.size(0)\n",
        "        correct += (predicted == labels).sum().item()\n",
        "\n",
        "  print('Accuracy of the model on the test images: {} %'.format(100 * correct / total))"
      ],
      "execution_count": 11,
      "outputs": []
    },
    {
      "cell_type": "code",
      "metadata": {
        "id": "pkHuuAtTbZhy"
      },
      "source": [
        "#Calculate the total number of parameters for model stride 2\n",
        "from prettytable import PrettyTable\n",
        "\n",
        "def calculateModelParams(model):\n",
        "    table = PrettyTable([\"Modules\", \"Parameters\"])\n",
        "    total_params = 0\n",
        "    for name, parameter in model.named_parameters():\n",
        "        if not parameter.requires_grad: continue\n",
        "        param = parameter.numel()\n",
        "        table.add_row([name, param])\n",
        "        total_params+=param\n",
        "    print(table)\n",
        "    print(f\"Total Trainable Params: {total_params}\")\n",
        "    return total_params"
      ],
      "execution_count": 12,
      "outputs": []
    },
    {
      "cell_type": "code",
      "metadata": {
        "id": "EFBMwQ46ULsY"
      },
      "source": [
        "# Save the model checkpoint\n",
        "def saveModel(model,layerNo):\n",
        "  snapShotName = \"resnet%s.ckpt\" % (layerNo)\n",
        "  torch.save(model.state_dict(), snapShotName)\n",
        "  print(snapShotName)"
      ],
      "execution_count": 13,
      "outputs": []
    },
    {
      "cell_type": "markdown",
      "metadata": {
        "id": "k7lgHZyXWSnq"
      },
      "source": [
        "**Resnet20**"
      ]
    },
    {
      "cell_type": "code",
      "metadata": {
        "id": "Gen3oqlRWRCp",
        "colab": {
          "base_uri": "https://localhost:8080/"
        },
        "outputId": "b554dc62-4a6e-4457-d1a6-2b16a342a692"
      },
      "source": [
        "resnet20Model = createResnetModelWithDepth(20)\n",
        "trainModel(resnet20Model,20)\n",
        "testModel(resnet20Model)\n",
        "saveModel(resnet20Model,20)\n"
      ],
      "execution_count": null,
      "outputs": [
        {
          "output_type": "stream",
          "name": "stdout",
          "text": [
            "cuda:0\n",
            "Epoch [1/80], Step [100/391] Loss: 2.2873\n",
            "Epoch [1/80], Step [200/391] Loss: 2.2985\n",
            "Epoch [1/80], Step [300/391] Loss: 2.2572\n",
            "train_err: 0.89196 test_err: 0.8904\n",
            "Epoch [2/80], Step [100/391] Loss: 1.9848\n",
            "Epoch [2/80], Step [200/391] Loss: 1.7753\n",
            "Epoch [2/80], Step [300/391] Loss: 1.7910\n",
            "train_err: 0.74248 test_err: 0.7408\n",
            "Epoch [3/80], Step [100/391] Loss: 1.7661\n",
            "Epoch [3/80], Step [200/391] Loss: 1.6085\n",
            "Epoch [3/80], Step [300/391] Loss: 1.6971\n",
            "train_err: 0.58812 test_err: 0.5859\n",
            "Epoch [4/80], Step [100/391] Loss: 1.3479\n",
            "Epoch [4/80], Step [200/391] Loss: 1.3226\n",
            "Epoch [4/80], Step [300/391] Loss: 1.5073\n",
            "train_err: 0.5532 test_err: 0.561\n",
            "Epoch [5/80], Step [100/391] Loss: 1.4308\n",
            "Epoch [5/80], Step [200/391] Loss: 1.2655\n",
            "Epoch [5/80], Step [300/391] Loss: 1.2286\n",
            "train_err: 0.49712 test_err: 0.502\n",
            "Epoch [6/80], Step [100/391] Loss: 1.4404\n",
            "Epoch [6/80], Step [200/391] Loss: 1.4072\n",
            "Epoch [6/80], Step [300/391] Loss: 1.3539\n",
            "train_err: 0.45064 test_err: 0.4712\n",
            "Epoch [7/80], Step [100/391] Loss: 1.1730\n",
            "Epoch [7/80], Step [200/391] Loss: 1.1438\n",
            "Epoch [7/80], Step [300/391] Loss: 1.1935\n",
            "train_err: 0.39436 test_err: 0.4203\n",
            "Epoch [8/80], Step [100/391] Loss: 1.2286\n",
            "Epoch [8/80], Step [200/391] Loss: 1.0656\n",
            "Epoch [8/80], Step [300/391] Loss: 1.0217\n",
            "train_err: 0.36318 test_err: 0.3929\n",
            "Epoch [9/80], Step [100/391] Loss: 1.0276\n",
            "Epoch [9/80], Step [200/391] Loss: 0.9193\n",
            "Epoch [9/80], Step [300/391] Loss: 1.0795\n",
            "train_err: 0.43606 test_err: 0.4618\n",
            "Epoch [10/80], Step [100/391] Loss: 0.8337\n",
            "Epoch [10/80], Step [200/391] Loss: 0.6677\n"
          ]
        }
      ]
    },
    {
      "cell_type": "markdown",
      "metadata": {
        "id": "jQsM4rrTYLdw"
      },
      "source": [
        "**Resnet32**"
      ]
    },
    {
      "cell_type": "code",
      "metadata": {
        "id": "ifgBfAzVZ81P"
      },
      "source": [
        "resnet32Model = createResnetModelWithDepth(32)\n",
        "trainModel(resnet32Model,32)\n",
        "testModel(resnet32Model)\n",
        "saveModel(resnet32Model,32)"
      ],
      "execution_count": null,
      "outputs": []
    },
    {
      "cell_type": "markdown",
      "metadata": {
        "id": "AzW3PdDuYTsC"
      },
      "source": [
        "**Resnet44**"
      ]
    },
    {
      "cell_type": "code",
      "metadata": {
        "id": "uyxKW5mzaFeJ"
      },
      "source": [
        "resnet44Model = createResnetModelWithDepth(44)\n",
        "trainModel(resnet44Model,44)\n",
        "testModel(resnet44Model)\n",
        "saveModel(resnet44Model,44)"
      ],
      "execution_count": null,
      "outputs": []
    },
    {
      "cell_type": "markdown",
      "metadata": {
        "id": "NULlJaGtYVL5"
      },
      "source": [
        "**Resnet56**"
      ]
    },
    {
      "cell_type": "code",
      "metadata": {
        "id": "mqjIFm7MaJBL"
      },
      "source": [
        "resnet56Model = createResnetModelWithDepth(56)\n",
        "trainModel(resnet56Model,56)\n",
        "testModel(resnet56Model)\n",
        "saveModel(resnet56Model,56)"
      ],
      "execution_count": null,
      "outputs": []
    },
    {
      "cell_type": "markdown",
      "metadata": {
        "id": "nWcRO6T6AOis"
      },
      "source": [
        "###Classification error and the number of parameters of each architecture"
      ]
    },
    {
      "cell_type": "code",
      "metadata": {
        "id": "z8FwFIy4iIQn"
      },
      "source": [
        "calculateModelParams(resnet20Model)\n",
        "calculateModelParams(resnet32Model)\n",
        "calculateModelParams(resnet44Model)\n",
        "calculateModelParams(resnet56Model)"
      ],
      "execution_count": null,
      "outputs": []
    },
    {
      "cell_type": "code",
      "metadata": {
        "id": "o6Hx0SO_z0j9"
      },
      "source": [
        "ns  = [3, 5, 7, 9]\n",
        "clr = ['y', 'c', 'g', 'r']\n",
        "\n",
        "resnet_dfs = [pd.read_csv(f'results/resnet{6*n+2}.csv') for n in ns]\n",
        "fig = plt.figure(figsize=(20, 10))\n",
        "plt.axis([0, 80, 0, 100])\n",
        "\n",
        "\n",
        "for i in range(len(ns)):\n",
        "    plt.plot(resnet_dfs[i]['epoch'], resnet_dfs[i]['train_err']*100, f'{clr[i]}--',\n",
        "             label=f'ResNet-{6*ns[i]+2} train')\n",
        "    plt.plot(resnet_dfs[i]['epoch'], resnet_dfs[i]['test_err']*100, f'{clr[i]}',\n",
        "             label=f'ResNet-{6*ns[i]+2} test')\n",
        "\n",
        "plt.title('Comparison of four residual networks with 20, 32, 44 and 56 layers.')\n",
        "plt.legend(loc='upper right')\n",
        "plt.xlabel('epochs')\n",
        "plt.ylabel('error (%)')\n",
        "plt.axhline(10, color='black', alpha=0.5, dashes=(10., 10.))\n",
        "plt.axhline(5, color='black', alpha=0.5, dashes=(10., 10.));"
      ],
      "execution_count": null,
      "outputs": []
    },
    {
      "cell_type": "code",
      "metadata": {
        "id": "TkPpRn3nz7FB"
      },
      "source": [
        "bests = [df[df['test_err'] == df['test_err'].min()].iloc[0] for df in resnet_dfs]\n",
        "bests_df= pd.concat(bests, axis=1).T\n",
        "bests_df['model'] = ['ResNet20', 'ResNet32', 'ResNet44', 'ResNet56']\n",
        "display(bests_df[['model', 'test_err']])"
      ],
      "execution_count": null,
      "outputs": []
    },
    {
      "cell_type": "markdown",
      "metadata": {
        "id": "DiZhaDH1SXEO"
      },
      "source": [
        "##Plain Network\n"
      ]
    },
    {
      "cell_type": "code",
      "metadata": {
        "id": "9ZB5NKB-Keci"
      },
      "source": [
        "# 3x3 convolution\n",
        "def conv3x3(in_channels, out_channels, stride=1):\n",
        "    return nn.Conv2d(in_channels, out_channels, kernel_size=3, \n",
        "                     stride=stride, padding=1, bias=False)\n",
        "\n",
        "# block(removing out += residual line to be plain network)\n",
        "class ResidualBlock(nn.Module):\n",
        "    def __init__(self, in_channels, out_channels, stride=1, downsample=None):\n",
        "        super(ResidualBlock, self).__init__()\n",
        "        self.conv1 = conv3x3(in_channels, out_channels, stride)\n",
        "        self.bn1 = nn.BatchNorm2d(out_channels)\n",
        "        self.relu = nn.ReLU(inplace=True)\n",
        "        self.conv2 = conv3x3(out_channels, out_channels)\n",
        "        self.bn2 = nn.BatchNorm2d(out_channels)\n",
        "        self.downsample = downsample\n",
        "        \n",
        "    def forward(self, x):\n",
        "        residual = x\n",
        "        out = self.conv1(x)\n",
        "        out = self.bn1(out)\n",
        "        out = self.relu(out)\n",
        "        out = self.conv2(out)\n",
        "        out = self.bn2(out)\n",
        "        if self.downsample:\n",
        "            residual = self.downsample(x)\n",
        "        ##out += residual\n",
        "        out = self.relu(out)\n",
        "        return out\n",
        "\n",
        "# Plain network\n",
        "class ResNet(nn.Module):\n",
        "    def __init__(self, block, layers, num_classes=10):\n",
        "        super(ResNet, self).__init__()\n",
        "        self.in_channels = 16\n",
        "        self.conv = conv3x3(3, 16)\n",
        "        self.bn = nn.BatchNorm2d(16)\n",
        "        self.relu = nn.ReLU(inplace=True)\n",
        "        self.layer1 = self.make_layer(block, 16, layers[0])\n",
        "        self.layer2 = self.make_layer(block, 32, layers[1], 2)\n",
        "        self.layer3 = self.make_layer(block, 64, layers[2], 2)\n",
        "        self.avg_pool = nn.AvgPool2d(8)\n",
        "        self.fc = nn.Linear(64, num_classes)\n",
        "        \n",
        "    def make_layer(self, block, out_channels, blocks, stride=1):\n",
        "        downsample = None\n",
        "        if (stride != 1) or (self.in_channels != out_channels):\n",
        "            downsample = nn.Sequential(\n",
        "                conv3x3(self.in_channels, out_channels, stride=stride),\n",
        "                nn.BatchNorm2d(out_channels))\n",
        "        layers = []\n",
        "        layers.append(block(self.in_channels, out_channels, stride, downsample))\n",
        "        self.in_channels = out_channels\n",
        "        for i in range(1, blocks):\n",
        "            layers.append(block(out_channels, out_channels))\n",
        "        return nn.Sequential(*layers)\n",
        "    \n",
        "    def forward(self, x):\n",
        "        out = self.conv(x)\n",
        "        out = self.bn(out)\n",
        "        out = self.relu(out)\n",
        "        out = self.layer1(out)\n",
        "        out = self.layer2(out)\n",
        "        out = self.layer3(out)\n",
        "        out = self.avg_pool(out)\n",
        "        out = out.view(out.size(0), -1)\n",
        "        out = self.fc(out)\n",
        "        return out\n",
        "    "
      ],
      "execution_count": null,
      "outputs": []
    },
    {
      "cell_type": "code",
      "metadata": {
        "id": "hI8gTfCaSgtY"
      },
      "source": [
        "Plainnetwork20Model = createResnetModelWithDepth(20)\n",
        "trainModel(Plainnetwork20Model,20)\n",
        "testModel(Plainnetwork20Model)\n",
        "saveModel(Plainnetwork20Model,20)\n"
      ],
      "execution_count": null,
      "outputs": []
    },
    {
      "cell_type": "code",
      "metadata": {
        "id": "09O5xlIlSqGK"
      },
      "source": [
        "Plainnetwork32Model = createResnetModelWithDepth(32)\n",
        "trainModel(Plainnetwork32Model,32)\n",
        "testModel(Plainnetwork32Model)\n",
        "saveModel(Plainnetwork32Model,32)"
      ],
      "execution_count": null,
      "outputs": []
    },
    {
      "cell_type": "code",
      "metadata": {
        "id": "-MnJrmEHSp9V"
      },
      "source": [
        "Plainnetwork44Model = createResnetModelWithDepth(44)\n",
        "trainModel(Plainnetwork44Model,44)\n",
        "testModel(Plainnetwork44Model)\n",
        "saveModel(Plainnetwork44Model,44)"
      ],
      "execution_count": null,
      "outputs": []
    },
    {
      "cell_type": "code",
      "metadata": {
        "id": "ePBfRVHtSpvt"
      },
      "source": [
        "Plainnetwork56Model = createResnetModelWithDepth(56)\n",
        "trainModel(Plainnetwork56Model,56)\n",
        "testModel(Plainnetwork56Model)\n",
        "saveModel(Plainnetwork56Model,56)"
      ],
      "execution_count": null,
      "outputs": []
    },
    {
      "cell_type": "markdown",
      "metadata": {
        "id": "x8fa9bnHD2Sd"
      },
      "source": [
        "###Classification error and the number of parameters of each architecture"
      ]
    },
    {
      "cell_type": "code",
      "metadata": {
        "id": "WQVjcEMxC-g1"
      },
      "source": [
        "calculateModelParams(Plainnetwork20Model)\n",
        "calculateModelParams(Plainnetwork32Model)\n",
        "calculateModelParams(Plainnetwork44Model)\n",
        "calculateModelParams(Plainnetwork56Model)"
      ],
      "execution_count": null,
      "outputs": []
    },
    {
      "cell_type": "code",
      "metadata": {
        "id": "91LREsTa_2D1"
      },
      "source": [
        "ns  = [3, 5, 7, 9]\n",
        "clr = ['y', 'c', 'g', 'r']\n",
        "\n",
        "\n",
        "plainnet_dfs = [pd.read_csv(f'results/plainnet{6*n+2}.csv') for n in ns]\n",
        "fig = plt.figure(figsize=(20, 10))\n",
        "plt.axis([0, 80, 0, 100])\n",
        "\n",
        "\n",
        "for i in range(len(ns)):\n",
        "    plt.plot(plainnet_dfs[i]['epoch'], plainnet_dfs[i]['train_err']*100, f'{clr[i]}--',\n",
        "             label=f'plain-{6*ns[i]+2} train')\n",
        "    plt.plot(plainnet_dfs[i]['epoch'], plainnet_dfs[i]['test_err']*100, f'{clr[i]}',\n",
        "             label=f'plain-{6*ns[i]+2} test')\n",
        "\n",
        "plt.title('Comparison of four plain convolutional networks with 20, 32, 44 and 56 layers.')\n",
        "plt.legend(loc='upper right')\n",
        "plt.xlabel('epochs')\n",
        "plt.ylabel('error (%)')\n",
        "plt.axhline(10, color='black', alpha=0.5, dashes=(10., 10.))\n",
        "plt.axhline(5, color='black', alpha=0.5, dashes=(10., 10.));"
      ],
      "execution_count": null,
      "outputs": []
    },
    {
      "cell_type": "code",
      "metadata": {
        "id": "RSjzDKaQDR0W"
      },
      "source": [
        "bests = [df[df['test_err'] == df['test_err'].min()].iloc[0] for df in plainnet_dfs]\n",
        "bests_df= pd.concat(bests, axis=1).T\n",
        "bests_df['model'] = ['PlainNet20', 'PlainNet32', 'PlainNet44', 'PlainNet56']\n",
        "display(bests_df[['model', 'test_err']])"
      ],
      "execution_count": null,
      "outputs": []
    },
    {
      "cell_type": "markdown",
      "metadata": {
        "id": "raVwOJjP-Q5d"
      },
      "source": [
        " ##Q2) In the same Notebook, plot the classification error vs. the number of epochs for the above 4 ResNet architectures and in addition those generated by using deep CNN models without residual links (plain network presented at Figure 3middle of the above paper) of depth 20, 32, 44 and 56 layers, and"
      ]
    },
    {
      "cell_type": "code",
      "metadata": {
        "id": "VLFFlIwB-X92"
      },
      "source": [
        "ns  = [3, 5, 7, 9]\n",
        "clr = ['y', 'c', 'g', 'r']\n",
        "\n",
        "\n",
        "f, (ax1, ax2) = plt.subplots(1, 2, sharey=True, figsize=(25, 7))\n",
        "\n",
        "plainnet_dfs = [pd.read_csv(f'results/plainnet{6*n+2}.csv') for n in ns]\n",
        "resnet_dfs = [pd.read_csv(f'results/resnet{6*n+2}.csv') for n in ns]\n",
        "\n",
        "def plot_results(dfs, ax, title):\n",
        "    ax.axis([0, 80, 0, 100])\n",
        "    \n",
        "    for i in range(len(ns)):\n",
        "        ax.plot(dfs[i]['epoch'], dfs[i]['train_err']*100, f'{clr[i]}--',\n",
        "                 label=f'plain-{6*ns[i]+2} train')\n",
        "        ax.plot(dfs[i]['epoch'], dfs[i]['test_err']*100, f'{clr[i]}',\n",
        "                 label=f'plain-{6*ns[i]+2} test')\n",
        "    \n",
        "    ax.set_title(title)\n",
        "    ax.legend(loc='bottom left')\n",
        "    ax.set_xlabel('epochs')\n",
        "    ax.set_ylabel('error (%)')\n",
        "    ax.axhline(10, color='black', alpha=0.5, dashes=(10., 10.))\n",
        "    ax.axhline(5, color='black', alpha=0.5, dashes=(10., 10.));\n",
        "    \n",
        "plot_results(plainnet_dfs, ax1, 'Plain Networks')\n",
        "plot_results(resnet_dfs, ax2, 'Residual Networks')"
      ],
      "execution_count": null,
      "outputs": []
    }
  ]
}