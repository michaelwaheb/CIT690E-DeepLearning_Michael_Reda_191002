{
  "nbformat": 4,
  "nbformat_minor": 0,
  "metadata": {
    "colab": {
      "name": "model_v2.ipynb",
      "provenance": [],
      "collapsed_sections": [],
      "machine_shape": "hm",
      "include_colab_link": true
    },
    "kernelspec": {
      "name": "python3",
      "display_name": "Python 3"
    },
    "language_info": {
      "name": "python"
    },
    "accelerator": "GPU"
  },
  "cells": [
    {
      "cell_type": "markdown",
      "metadata": {
        "id": "view-in-github",
        "colab_type": "text"
      },
      "source": [
        "<a href=\"https://colab.research.google.com/github/michaelwaheb/CIT690E-DeepLearning_Michael_Reda_191002/blob/main/chatbot/model_v2.ipynb\" target=\"_parent\"><img src=\"https://colab.research.google.com/assets/colab-badge.svg\" alt=\"Open In Colab\"/></a>"
      ]
    },
    {
      "cell_type": "code",
      "source": [
        "!pip install --user -U nltk\n",
        "import nltk\n",
        "from nltk.corpus import stopwords\n",
        "nltk.download('stopwords')\n",
        "stops = set(stopwords.words('english'))"
      ],
      "metadata": {
        "colab": {
          "base_uri": "https://localhost:8080/"
        },
        "id": "AzsZd4VYG3Bx",
        "outputId": "97bae6cd-8ae4-44ae-e280-6cbdb9ddfa76"
      },
      "execution_count": 1,
      "outputs": [
        {
          "output_type": "stream",
          "name": "stdout",
          "text": [
            "Requirement already satisfied: nltk in /root/.local/lib/python3.7/site-packages (3.6.7)\n",
            "Requirement already satisfied: joblib in /usr/local/lib/python3.7/dist-packages (from nltk) (1.1.0)\n",
            "Requirement already satisfied: tqdm in /usr/local/lib/python3.7/dist-packages (from nltk) (4.62.3)\n",
            "Requirement already satisfied: regex>=2021.8.3 in /root/.local/lib/python3.7/site-packages (from nltk) (2022.1.18)\n",
            "Requirement already satisfied: click in /usr/local/lib/python3.7/dist-packages (from nltk) (7.1.2)\n"
          ]
        },
        {
          "output_type": "stream",
          "name": "stderr",
          "text": [
            "[nltk_data] Downloading package stopwords to /root/nltk_data...\n",
            "[nltk_data]   Package stopwords is already up-to-date!\n"
          ]
        }
      ]
    },
    {
      "cell_type": "code",
      "source": [
        "from keras import backend as K\n",
        "from keras.layers import Layer\n",
        "from keras.preprocessing.sequence import pad_sequences\n",
        "import numpy as np\n",
        "import itertools\n",
        "\n",
        "'''\n",
        "This configuration file provides a series of predefined functions\n",
        "'''\n",
        "\n",
        "\n",
        "# ------------------custom function------------------ #\n",
        "\n",
        "def text_to_word_list(text):  # 文本分词\n",
        "    text = str(text)\n",
        "    text = text.lower()\n",
        "    # Text cleaning rules for English text\n",
        "    import re\n",
        "    text = re.sub(r\"[^A-Za-z0-9^,!.\\/'+-=]\", \" \", text)\n",
        "    text = re.sub(r\"what's\", \"what is \", text)\n",
        "    text = re.sub(r\"\\'s\", \" \", text)\n",
        "    text = re.sub(r\"\\'ve\", \" have \", text)\n",
        "    text = re.sub(r\"can't\", \"cannot \", text)\n",
        "    text = re.sub(r\"n't\", \" not \", text)\n",
        "    text = re.sub(r\"i'm\", \"i am \", text)\n",
        "    text = re.sub(r\"\\'re\", \" are \", text)\n",
        "    text = re.sub(r\"\\'d\", \" would \", text)\n",
        "    text = re.sub(r\"\\'ll\", \" will \", text)\n",
        "    text = re.sub(r\",\", \" \", text)\n",
        "    text = re.sub(r\"\\.\", \" \", text)\n",
        "    text = re.sub(r\"!\", \" ! \", text)\n",
        "    text = re.sub(r\"\\/\", \" \", text)\n",
        "    text = re.sub(r\"\\^\", \" ^ \", text)\n",
        "    text = re.sub(r\"\\+\", \" + \", text)\n",
        "    text = re.sub(r\"\\-\", \" - \", text)\n",
        "    text = re.sub(r\"\\=\", \" = \", text)\n",
        "    text = re.sub(r\"'\", \" \", text)\n",
        "    text = re.sub(r\"(\\d+)(k)\", r\"\\g<1>000\", text)\n",
        "    text = re.sub(r\":\", \" : \", text)\n",
        "    text = re.sub(r\" e g \", \" eg \", text)\n",
        "    text = re.sub(r\" b g \", \" bg \", text)\n",
        "    text = re.sub(r\" u s \", \" american \", text)\n",
        "    text = re.sub(r\"\\0s\", \"0\", text)\n",
        "    text = re.sub(r\" 9 11 \", \"911\", text)\n",
        "    text = re.sub(r\"e - mail\", \"email\", text)\n",
        "    text = re.sub(r\"j k\", \"jk\", text)\n",
        "    text = re.sub(r\"\\s{2,}\", \" \", text)\n",
        "\n",
        "    text = text.split()\n",
        "\n",
        "    return text\n",
        "\n",
        "def make_w2v_embeddings(flag, word2vec, df, embedding_dim):  # 将词转化为词向量\n",
        "    vocabs = {}  # 词序号\n",
        "    vocabs_count = 0  # 词个数计数器\n",
        "\n",
        "    vocabs_not_w2v = {}  # 无法用词向量表示的词\n",
        "    vocabs_not_w2v_count = 0  # Word count that cannot be represented by word vectors\n",
        "\n",
        "    # 停用词\n",
        "    # stops = set(open('data/stopwords.txt').read().strip().split('\\n'))\n",
        "\n",
        "    for index, row in df.iterrows():\n",
        "        # 打印处理进度\n",
        "        if index != 0 and index % 1000 == 0:\n",
        "            print(str(index) + \" sentences embedded.\")\n",
        "\n",
        "        for question in ['question1', 'question2']:\n",
        "            q2n = []  # q2n -> question to numbers representation\n",
        "            words = text_to_word_list(row[question])\n",
        "\n",
        "            for word in words:\n",
        "                # if word in stops:  # remove stop words\n",
        "                # continue\n",
        "                # The word of OOV is put into a dictionary that cannot be represented by a word vector, and the value is 1\n",
        "                if word not in word2vec and word not in vocabs_not_w2v:  \n",
        "                    vocabs_not_w2v_count += 1\n",
        "                    vocabs_not_w2v[word] = 1   \n",
        "                if word not in vocabs:  # Non-OOV words, extract the corresponding id\n",
        "                    vocabs_count += 1\n",
        "                    vocabs[word] = vocabs_count\n",
        "                    q2n.append(vocabs_count)\n",
        "                else:\n",
        "                    q2n.append(vocabs[word])\n",
        "            df.at[index, question + '_n'] = q2n\n",
        "\n",
        "    embeddings = 1 * np.random.randn(len(vocabs) + 1, embedding_dim)  # 随机初始化一个形状为[全部词个数，词向量维度]的矩阵\n",
        "    '''\n",
        "    词1 [a1, a2, a3, ..., a60]\n",
        "    词2 [b1, b2, b3, ..., b60]\n",
        "    词3 [c1, c2, c3, ..., c60]\n",
        "    '''\n",
        "    embeddings[0] = 0  # 第一行用0填充，因为不存在index为0的词\n",
        "\n",
        "    for index in vocabs:\n",
        "        vocab_word = vocabs[index]\n",
        "        if vocab_word in word2vec:\n",
        "            embeddings[index] = word2vec[vocab_word]\n",
        "    del word2vec\n",
        "\n",
        "    return df, embeddings\n",
        "\n",
        "\n",
        "def split_and_zero_padding(df, max_seq_length):  # 调整tokens长度\n",
        "\n",
        "    # 训练集矩阵转换成字典\n",
        "    X = {'left': df['question1_n'], 'right': df['question2_n']}\n",
        "\n",
        "    # 调整到规定长度\n",
        "    for dataset, side in itertools.product([X], ['left', 'right']):\n",
        "        dataset[side] = pad_sequences(dataset[side], padding='pre', truncating='post', maxlen=max_seq_length)\n",
        "\n",
        "    return dataset\n",
        "\n",
        "\n",
        "class ManDist(Layer):  # 封装成keras层的曼哈顿距离计算\n",
        "\n",
        "    # 初始化ManDist层，此时不需要任何参数输入\n",
        "    def __init__(self, **kwargs):\n",
        "        self.result = None\n",
        "        super(ManDist, self).__init__(**kwargs)\n",
        "\n",
        "    # Automatically build ManDist layer\n",
        "    def build(self, input_shape):\n",
        "        super(ManDist, self).build(input_shape)\n",
        "\n",
        "    # Calculate Manhattan distance\n",
        "    def call(self, x, **kwargs):\n",
        "        self.result = K.exp(-K.sum(K.abs(x[0] - x[1]), axis=1, keepdims=True))\n",
        "        return self.result\n",
        "\n",
        "    # return result\n",
        "    def compute_output_shape(self, input_shape):\n",
        "        return K.int_shape(self.result)"
      ],
      "metadata": {
        "id": "6WqiKm9jiNZv"
      },
      "execution_count": 2,
      "outputs": []
    },
    {
      "cell_type": "markdown",
      "source": [
        ""
      ],
      "metadata": {
        "id": "gnYJFm6O7s3x"
      }
    },
    {
      "cell_type": "code",
      "execution_count": 3,
      "metadata": {
        "id": "nAYrj7QKg9vy"
      },
      "outputs": [],
      "source": [
        "# Basic package\n",
        "from time import time\n",
        "import pandas as pd\n",
        "from sklearn.model_selection import train_test_split\n",
        "import keras\n",
        "from gensim.models import KeyedVectors\n",
        "from keras.models import Model\n",
        "from keras.layers import Input, Embedding, LSTM, Dense, Flatten, Activation, RepeatVector, Permute, Lambda, \\\n",
        "    Bidirectional, TimeDistributed, Dropout, Conv1D, GlobalMaxPool1D\n",
        "from keras.layers.merge import multiply, concatenate\n",
        "import keras.backend as K\n",
        "from tensorflow.keras.optimizers import Adam"
      ]
    },
    {
      "cell_type": "code",
      "source": [
        "!pip install wget\n",
        "\n",
        "import wget\n",
        "url = 'https://s3.amazonaws.com/dl4j-distribution/GoogleNews-vectors-negative300.bin.gz'\n",
        "filename = wget.download(url)"
      ],
      "metadata": {
        "id": "wQbCm59mj2_F",
        "outputId": "74e8a6d0-97ea-4d04-b0a9-ba8ac7422249",
        "colab": {
          "base_uri": "https://localhost:8080/"
        }
      },
      "execution_count": 4,
      "outputs": [
        {
          "output_type": "stream",
          "name": "stdout",
          "text": [
            "Requirement already satisfied: wget in /usr/local/lib/python3.7/dist-packages (3.2)\n"
          ]
        }
      ]
    },
    {
      "cell_type": "code",
      "source": [
        "#! pip install kaggle\n",
        "#! mkdir -p ~/.kaggle\n",
        "#! cp kaggle.json ~/.kaggle/\n",
        "#! chmod 600 ~/.kaggle/kaggle.json\n",
        "#! kaggle competitions download quora-question-pairs -f train.csv.zip\n",
        "#! kaggle competitions download quora-question-pairs -f test.csv.zip"
      ],
      "metadata": {
        "id": "Im__Fm2-m17Z"
      },
      "execution_count": 5,
      "outputs": []
    },
    {
      "cell_type": "code",
      "source": [
        "#! unzip -o test.csv.zip\n",
        "#! unzip -o train.csv.zip"
      ],
      "metadata": {
        "id": "9Hb2fGMynFYm"
      },
      "execution_count": 6,
      "outputs": []
    },
    {
      "cell_type": "code",
      "source": [
        "# ------------------Preloading------------------ #\n",
        "\n",
        "# Chinese and English training options, English training set is used by default\n",
        "TRAIN_CSV = './train.csv'\n",
        "flag = 'en'\n",
        "embedding_path = 'GoogleNews-vectors-negative300.bin.gz'\n",
        "embedding_dim = 300\n",
        "max_seq_length = 10\n",
        "savepath = './en_SiameseLSTM.h5'"
      ],
      "metadata": {
        "id": "V5sUkwgPicuf"
      },
      "execution_count": 7,
      "outputs": []
    },
    {
      "cell_type": "code",
      "source": [
        "# Whether to enable pre-trained word vectors, use randomly initialized word vectors by default\n",
        "# Load word vectors\n",
        "print(\"Loading word2vec model(it may takes 2-3 mins) ...\")\n",
        "embedding_dict = KeyedVectors.load_word2vec_format(embedding_path, binary=True)\n"
      ],
      "metadata": {
        "id": "PieHmagRi5sr",
        "outputId": "77304e80-46d0-4b97-c129-30cebb37c23f",
        "colab": {
          "base_uri": "https://localhost:8080/"
        }
      },
      "execution_count": 8,
      "outputs": [
        {
          "metadata": {
            "tags": null
          },
          "name": "stdout",
          "output_type": "stream",
          "text": [
            "Loading word2vec model(it may takes 2-3 mins) ...\n"
          ]
        }
      ]
    },
    {
      "cell_type": "code",
      "source": [
        "# Read and load the training set\n",
        "train_df = pd.read_csv(TRAIN_CSV)\n",
        "for q in ['question1', 'question2']:\n",
        "    train_df[q + '_n'] = train_df[q]"
      ],
      "metadata": {
        "id": "BHXXixPAjncI"
      },
      "execution_count": 9,
      "outputs": []
    },
    {
      "cell_type": "code",
      "source": [
        "# Vectorize the training set words\n",
        "train_df, embeddings = make_w2v_embeddings(flag, embedding_dict, train_df, embedding_dim=embedding_dim)"
      ],
      "metadata": {
        "id": "vnfQ3utBj_eQ",
        "colab": {
          "base_uri": "https://localhost:8080/"
        },
        "outputId": "548caf19-292b-4723-bd2c-96b2e694dd27"
      },
      "execution_count": 10,
      "outputs": [
        {
          "metadata": {
            "tags": null
          },
          "name": "stdout",
          "output_type": "stream",
          "text": [
            "1000 sentences embedded.\n",
            "2000 sentences embedded.\n",
            "3000 sentences embedded.\n",
            "4000 sentences embedded.\n",
            "5000 sentences embedded.\n",
            "6000 sentences embedded.\n",
            "7000 sentences embedded.\n",
            "8000 sentences embedded.\n",
            "9000 sentences embedded.\n"
          ]
        }
      ]
    },
    {
      "cell_type": "code",
      "source": [
        "for col in ['question1','question2']:\n",
        "   # find indices, keep=\"all\" means keep all occurrences. \n",
        "   idxs = train_df[col].astype(str).str.len().nlargest(\n",
        "       1, keep=\"all\"\n",
        "   ).index\n",
        "   # get values.\n",
        "   values = train_df.loc[idxs, col]\n",
        "   print('col : ',col, values)"
      ],
      "metadata": {
        "id": "ehDLjnDwceSE",
        "outputId": "c000c2b7-a11a-41da-ac5c-b918d51f459c",
        "colab": {
          "base_uri": "https://localhost:8080/"
        }
      },
      "execution_count": 11,
      "outputs": [
        {
          "metadata": {
            "tags": null
          },
          "name": "stdout",
          "output_type": "stream",
          "text": [
            "col :  question1 862     I live with my mom and we are always arguing a...\n",
            "1294    I live with my mom and we are always arguing a...\n",
            "1320    A friend of mine is having a thyroid problem (...\n",
            "1691    I am a 2014 medical graduate from India. I hav...\n",
            "3009    I want to build an application for feature pho...\n",
            "4730    I am an accountant and I want to change career...\n",
            "5173    What's the difference between a \"builder\" and ...\n",
            "5335    My boyfriend is very soft spoken.He can't hurt...\n",
            "7229    I extracted 4 molar teeth because the dentist ...\n",
            "7367    My friend while working was met with an accide...\n",
            "7368    My friend while working was met with an accide...\n",
            "8057    I asked my sisters to join a degree (BscIT) wh...\n",
            "Name: question1, dtype: object\n",
            "col :  question2 7821    I am working toward being a doctor and don��t ...\n",
            "7822    I am working toward being a doctor and don��t ...\n",
            "Name: question2, dtype: object\n"
          ]
        }
      ]
    },
    {
      "cell_type": "code",
      "source": [
        "for col in ['question1_n','question2_n']:\n",
        "   # find indices, keep=\"all\" means keep all occurrences. \n",
        "   idxs = train_df[col].astype(str).str.len().nlargest(\n",
        "       1, keep=\"all\"\n",
        "   ).index\n",
        "   # get values.\n",
        "   values = train_df.loc[idxs, col]\n",
        "   print('col : ',col, values)"
      ],
      "metadata": {
        "id": "o2AiNSvLbcg8",
        "outputId": "a01ccd72-53b1-4f19-f4e1-1586e381dbc0",
        "colab": {
          "base_uri": "https://localhost:8080/"
        }
      },
      "execution_count": 12,
      "outputs": [
        {
          "metadata": {
            "tags": null
          },
          "name": "stdout",
          "output_type": "stream",
          "text": [
            "col :  question1_n 862     [19, 89, 8, 21, 2854, 43, 115, 2, 1135, 2855, ...\n",
            "1294    [19, 89, 8, 21, 2854, 43, 115, 2, 1135, 2855, ...\n",
            "Name: question1_n, dtype: object\n",
            "col :  question2_n 481    [1960, 1164, 1961, 354, 1962, 354, 1963, 1964,...\n",
            "482    [1960, 1164, 1961, 354, 1962, 354, 1963, 1964,...\n",
            "Name: question2_n, dtype: object\n"
          ]
        }
      ]
    },
    {
      "cell_type": "code",
      "source": [
        "# max_seq_length_in_dataset\n",
        "max_seq_length_in_dataset = max(train_df.question1_n.map(lambda x: len(x)).max(),\n",
        "                     train_df.question2_n.map(lambda x: len(x)).max())\n",
        "print(\"max_seq_length_in_dataset : \",max_seq_length_in_dataset)\n"
      ],
      "metadata": {
        "id": "P4QNwKEM9K4o",
        "colab": {
          "base_uri": "https://localhost:8080/"
        },
        "outputId": "956353c3-72eb-4f24-e38e-c236e6049eb6"
      },
      "execution_count": 13,
      "outputs": [
        {
          "metadata": {
            "tags": null
          },
          "name": "stdout",
          "output_type": "stream",
          "text": [
            "max_seq_length_in_dataset :  65\n"
          ]
        }
      ]
    },
    {
      "cell_type": "code",
      "source": [
        "train_df.head()"
      ],
      "metadata": {
        "id": "sbuflcpcyhUN",
        "colab": {
          "base_uri": "https://localhost:8080/",
          "height": 337
        },
        "outputId": "c3e4211a-3577-4dfe-b54f-2196c96c87ce"
      },
      "execution_count": 14,
      "outputs": [
        {
          "data": {
            "text/html": [
              "\n",
              "  <div id=\"df-0bf511f4-0123-470a-b361-fbf959cd0d20\">\n",
              "    <div class=\"colab-df-container\">\n",
              "      <div>\n",
              "<style scoped>\n",
              "    .dataframe tbody tr th:only-of-type {\n",
              "        vertical-align: middle;\n",
              "    }\n",
              "\n",
              "    .dataframe tbody tr th {\n",
              "        vertical-align: top;\n",
              "    }\n",
              "\n",
              "    .dataframe thead th {\n",
              "        text-align: right;\n",
              "    }\n",
              "</style>\n",
              "<table border=\"1\" class=\"dataframe\">\n",
              "  <thead>\n",
              "    <tr style=\"text-align: right;\">\n",
              "      <th></th>\n",
              "      <th>id</th>\n",
              "      <th>qid1</th>\n",
              "      <th>qid2</th>\n",
              "      <th>question1</th>\n",
              "      <th>question2</th>\n",
              "      <th>is_duplicate</th>\n",
              "      <th>question1_n</th>\n",
              "      <th>question2_n</th>\n",
              "    </tr>\n",
              "  </thead>\n",
              "  <tbody>\n",
              "    <tr>\n",
              "      <th>0</th>\n",
              "      <td>31</td>\n",
              "      <td>63</td>\n",
              "      <td>64</td>\n",
              "      <td>What are some special cares for someone with a...</td>\n",
              "      <td>How can I keep my nose from getting stuffy at ...</td>\n",
              "      <td>1</td>\n",
              "      <td>[1, 2, 3, 4, 5, 6, 7, 8, 9, 10, 11, 12, 13, 14...</td>\n",
              "      <td>[17, 18, 19, 20, 21, 10, 22, 23, 13, 24, 16]</td>\n",
              "    </tr>\n",
              "    <tr>\n",
              "      <th>1</th>\n",
              "      <td>50</td>\n",
              "      <td>101</td>\n",
              "      <td>102</td>\n",
              "      <td>Is Career Launcher good for RBI Grade B prepar...</td>\n",
              "      <td>How is career launcher online program for RBI ...</td>\n",
              "      <td>1</td>\n",
              "      <td>[25, 26, 27, 28, 6, 29, 30, 31, 32]</td>\n",
              "      <td>[17, 25, 26, 27, 33, 34, 6, 29, 30, 31]</td>\n",
              "    </tr>\n",
              "    <tr>\n",
              "      <th>2</th>\n",
              "      <td>50</td>\n",
              "      <td>101</td>\n",
              "      <td>102</td>\n",
              "      <td>Is Career Launcher good for RBI Grade B prepar...</td>\n",
              "      <td>How is career launcher online program for RBI ...</td>\n",
              "      <td>1</td>\n",
              "      <td>[25, 26, 27, 28, 6, 29, 30, 31, 32]</td>\n",
              "      <td>[17, 25, 26, 27, 33, 34, 6, 29, 30, 31]</td>\n",
              "    </tr>\n",
              "    <tr>\n",
              "      <th>3</th>\n",
              "      <td>58</td>\n",
              "      <td>117</td>\n",
              "      <td>118</td>\n",
              "      <td>I was suddenly logged off Gmail. I can't remem...</td>\n",
              "      <td>I can't remember my Gmail password or my recov...</td>\n",
              "      <td>1</td>\n",
              "      <td>[19, 35, 36, 37, 38, 39, 19, 40, 41, 21, 39, 4...</td>\n",
              "      <td>[19, 40, 41, 21, 39, 42, 52, 21, 46, 47, 17, 1...</td>\n",
              "    </tr>\n",
              "    <tr>\n",
              "      <th>4</th>\n",
              "      <td>61</td>\n",
              "      <td>123</td>\n",
              "      <td>124</td>\n",
              "      <td>Is it normal to have a dark ring around the ir...</td>\n",
              "      <td>What causes a dark ring around the iris? How s...</td>\n",
              "      <td>0</td>\n",
              "      <td>[25, 54, 55, 56, 57, 9, 58, 59, 60, 15, 61, 62...</td>\n",
              "      <td>[1, 64, 9, 58, 59, 60, 15, 61, 17, 65, 54, 66,...</td>\n",
              "    </tr>\n",
              "  </tbody>\n",
              "</table>\n",
              "</div>\n",
              "      <button class=\"colab-df-convert\" onclick=\"convertToInteractive('df-0bf511f4-0123-470a-b361-fbf959cd0d20')\"\n",
              "              title=\"Convert this dataframe to an interactive table.\"\n",
              "              style=\"display:none;\">\n",
              "        \n",
              "  <svg xmlns=\"http://www.w3.org/2000/svg\" height=\"24px\"viewBox=\"0 0 24 24\"\n",
              "       width=\"24px\">\n",
              "    <path d=\"M0 0h24v24H0V0z\" fill=\"none\"/>\n",
              "    <path d=\"M18.56 5.44l.94 2.06.94-2.06 2.06-.94-2.06-.94-.94-2.06-.94 2.06-2.06.94zm-11 1L8.5 8.5l.94-2.06 2.06-.94-2.06-.94L8.5 2.5l-.94 2.06-2.06.94zm10 10l.94 2.06.94-2.06 2.06-.94-2.06-.94-.94-2.06-.94 2.06-2.06.94z\"/><path d=\"M17.41 7.96l-1.37-1.37c-.4-.4-.92-.59-1.43-.59-.52 0-1.04.2-1.43.59L10.3 9.45l-7.72 7.72c-.78.78-.78 2.05 0 2.83L4 21.41c.39.39.9.59 1.41.59.51 0 1.02-.2 1.41-.59l7.78-7.78 2.81-2.81c.8-.78.8-2.07 0-2.86zM5.41 20L4 18.59l7.72-7.72 1.47 1.35L5.41 20z\"/>\n",
              "  </svg>\n",
              "      </button>\n",
              "      \n",
              "  <style>\n",
              "    .colab-df-container {\n",
              "      display:flex;\n",
              "      flex-wrap:wrap;\n",
              "      gap: 12px;\n",
              "    }\n",
              "\n",
              "    .colab-df-convert {\n",
              "      background-color: #E8F0FE;\n",
              "      border: none;\n",
              "      border-radius: 50%;\n",
              "      cursor: pointer;\n",
              "      display: none;\n",
              "      fill: #1967D2;\n",
              "      height: 32px;\n",
              "      padding: 0 0 0 0;\n",
              "      width: 32px;\n",
              "    }\n",
              "\n",
              "    .colab-df-convert:hover {\n",
              "      background-color: #E2EBFA;\n",
              "      box-shadow: 0px 1px 2px rgba(60, 64, 67, 0.3), 0px 1px 3px 1px rgba(60, 64, 67, 0.15);\n",
              "      fill: #174EA6;\n",
              "    }\n",
              "\n",
              "    [theme=dark] .colab-df-convert {\n",
              "      background-color: #3B4455;\n",
              "      fill: #D2E3FC;\n",
              "    }\n",
              "\n",
              "    [theme=dark] .colab-df-convert:hover {\n",
              "      background-color: #434B5C;\n",
              "      box-shadow: 0px 1px 3px 1px rgba(0, 0, 0, 0.15);\n",
              "      filter: drop-shadow(0px 1px 2px rgba(0, 0, 0, 0.3));\n",
              "      fill: #FFFFFF;\n",
              "    }\n",
              "  </style>\n",
              "\n",
              "      <script>\n",
              "        const buttonEl =\n",
              "          document.querySelector('#df-0bf511f4-0123-470a-b361-fbf959cd0d20 button.colab-df-convert');\n",
              "        buttonEl.style.display =\n",
              "          google.colab.kernel.accessAllowed ? 'block' : 'none';\n",
              "\n",
              "        async function convertToInteractive(key) {\n",
              "          const element = document.querySelector('#df-0bf511f4-0123-470a-b361-fbf959cd0d20');\n",
              "          const dataTable =\n",
              "            await google.colab.kernel.invokeFunction('convertToInteractive',\n",
              "                                                     [key], {});\n",
              "          if (!dataTable) return;\n",
              "\n",
              "          const docLinkHtml = 'Like what you see? Visit the ' +\n",
              "            '<a target=\"_blank\" href=https://colab.research.google.com/notebooks/data_table.ipynb>data table notebook</a>'\n",
              "            + ' to learn more about interactive tables.';\n",
              "          element.innerHTML = '';\n",
              "          dataTable['output_type'] = 'display_data';\n",
              "          await google.colab.output.renderOutput(dataTable, element);\n",
              "          const docLink = document.createElement('div');\n",
              "          docLink.innerHTML = docLinkHtml;\n",
              "          element.appendChild(docLink);\n",
              "        }\n",
              "      </script>\n",
              "    </div>\n",
              "  </div>\n",
              "  "
            ],
            "text/plain": [
              "   id  ...                                        question2_n\n",
              "0  31  ...       [17, 18, 19, 20, 21, 10, 22, 23, 13, 24, 16]\n",
              "1  50  ...            [17, 25, 26, 27, 33, 34, 6, 29, 30, 31]\n",
              "2  50  ...            [17, 25, 26, 27, 33, 34, 6, 29, 30, 31]\n",
              "3  58  ...  [19, 40, 41, 21, 39, 42, 52, 21, 46, 47, 17, 1...\n",
              "4  61  ...  [1, 64, 9, 58, 59, 60, 15, 61, 17, 65, 54, 66,...\n",
              "\n",
              "[5 rows x 8 columns]"
            ]
          },
          "execution_count": null,
          "metadata": {},
          "output_type": "execute_result"
        }
      ]
    },
    {
      "cell_type": "markdown",
      "source": [
        "Take the training data from:\n",
        "question1   question2   is_duplicate\n",
        "borrow Repayment Information Borrow Repayment Date 0\n",
        "become:\n",
        "\n",
        "question1 question2 is_duplicate question1_n question2_n\n",
        "Borrow repayment information Borrow repayment date 0 Borrow repayment information Borrow repayment date\n",
        "\n",
        "After becoming id:\n",
        "question1 question2 is_duplicate question1_n question2_n\n",
        "Borrow repayment information Borrow repayment date 0 [31, 639] [31, 255]"
      ],
      "metadata": {
        "id": "QAJs7oCBkXnC"
      }
    },
    {
      "cell_type": "code",
      "source": [
        "# Split training set\n",
        "X = train_df[['question1_n', 'question2_n']]\n",
        "Y = train_df['is_duplicate']\n",
        "X_train, X_validation, Y_train, Y_validation = train_test_split(X, Y, test_size=0.2)\n",
        "\n",
        "X_train = split_and_zero_padding(X_train, max_seq_length)\n",
        "X_validation = split_and_zero_padding(X_validation, max_seq_length)"
      ],
      "metadata": {
        "id": "6spfcp5HkFs1"
      },
      "execution_count": 15,
      "outputs": []
    },
    {
      "cell_type": "code",
      "source": [
        "# Convert labels to numbers\n",
        "Y_train = Y_train.values\n",
        "Y_validation = Y_validation.values"
      ],
      "metadata": {
        "id": "3StaNp6ukRgP"
      },
      "execution_count": 16,
      "outputs": []
    },
    {
      "cell_type": "code",
      "source": [
        "# Confirm that the data is prepared and correct\n",
        "print(\"X_train['left'].shape\" , X_train['left'].shape)\n",
        "print(\"X_train['right'].shape\" , X_train['left'].shape)\n",
        "print(\"len(X_train['left'])\" , len(X_train['left']))\n",
        "print(\"len(Y_train)\" , len(Y_train))\n",
        "\n",
        "assert X_train['left'].shape == X_train['right'].shape\n",
        "assert len(X_train['left']) == len(Y_train)"
      ],
      "metadata": {
        "id": "gdI_duEkk3HH",
        "colab": {
          "base_uri": "https://localhost:8080/"
        },
        "outputId": "84e18ebd-4313-4ca9-9112-4881f5c85496"
      },
      "execution_count": 17,
      "outputs": [
        {
          "metadata": {
            "tags": null
          },
          "name": "stdout",
          "output_type": "stream",
          "text": [
            "X_train['left'].shape (7998, 10)\n",
            "X_train['right'].shape (7998, 10)\n",
            "len(X_train['left']) 7998\n",
            "len(Y_train) 7998\n"
          ]
        }
      ]
    },
    {
      "cell_type": "code",
      "source": [
        "print(Y_validation)"
      ],
      "metadata": {
        "id": "rC3heYbFq7lF",
        "colab": {
          "base_uri": "https://localhost:8080/"
        },
        "outputId": "c2b34a87-2996-4288-ea18-65cb239465c6"
      },
      "execution_count": 18,
      "outputs": [
        {
          "metadata": {
            "tags": null
          },
          "name": "stdout",
          "output_type": "stream",
          "text": [
            "[0 0 0 ... 1 1 1]\n"
          ]
        }
      ]
    },
    {
      "cell_type": "markdown",
      "source": [
        "# -----------------base function------------------ #\n"
      ],
      "metadata": {
        "id": "fYMK4WfglDsW"
      }
    },
    {
      "cell_type": "code",
      "source": [
        "def shared_model(_input):\n",
        "    # word vectorization\n",
        "    embedded = Embedding(len(embeddings), embedding_dim, weights=[embeddings], input_shape=(max_seq_length,),\n",
        "                         trainable=False)(_input)\n",
        "\n",
        "    # multilayerBi-LSTM\n",
        "    activations = Bidirectional(LSTM(n_hidden, return_sequences=True), merge_mode='concat')(embedded)\n",
        "    activations = Bidirectional(LSTM(n_hidden, return_sequences=True), merge_mode='concat')(activations)\n",
        "\n",
        "    # dropout\n",
        "    activations = Dropout(0.5)(activations)\n",
        "\n",
        "    # Attention\n",
        "    attention = TimeDistributed(Dense(1, activation='tanh'))(activations)\n",
        "    attention = Flatten()(attention)\n",
        "    attention = Activation('softmax')(attention)\n",
        "    attention = RepeatVector(n_hidden * 2)(attention)\n",
        "    attention = Permute([2, 1])(attention)\n",
        "    sent_representation = multiply([activations, attention])\n",
        "    sent_representation = Lambda(lambda xin: K.sum(xin, axis=1))(sent_representation)\n",
        "\n",
        "    # dropout\n",
        "    sent_representation = Dropout(0.5)(sent_representation)\n",
        "\n",
        "    return sent_representation"
      ],
      "metadata": {
        "id": "GQYxnMOYk92f"
      },
      "execution_count": 19,
      "outputs": []
    },
    {
      "cell_type": "code",
      "source": [
        "if __name__ == '__main__':\n",
        "\n",
        "    # Hyperparameter\n",
        "    batch_size = 64\n",
        "    n_epoch = 6\n",
        "    n_hidden = 100\n",
        "\n",
        "    left_input = Input(shape=(max_seq_length,), dtype='float32')\n",
        "    right_input = Input(shape=(max_seq_length,), dtype='float32')\n",
        "\n",
        "    left_sen_representation = shared_model(left_input)\n",
        "    right_sen_representation = shared_model(right_input)\n",
        "\n",
        "    # The Manhattan distance is introduced, and the original \n",
        "    #vector on the obtained transformation concat is \n",
        "    #then subjected to a non-linear transformation \n",
        "    #through a multi-layer DNN, and the sigmoid obtains the similarity\n",
        "    \n",
        "    # I did not use the Mahalanobis distance mentioned \n",
        "    #in https://zhuanlan.zhihu.com/p/31638132. \n",
        "    #I tried Manhattan distance, point product and cos, \n",
        "    #and Manhattan is the best.\n",
        "    \n",
        "    man_distance = ManDist()([left_sen_representation, right_sen_representation])\n",
        "    sen_representation = concatenate([left_sen_representation, right_sen_representation, man_distance])\n",
        "    similarity = Dense(1, activation='sigmoid')(Dense(2)(Dense(4)(Dense(16)(sen_representation))))\n",
        "    model = Model(inputs=[left_input, right_input], outputs=[similarity])\n",
        "\n",
        "    model.compile(loss='mean_squared_error', optimizer= Adam(), metrics=['accuracy'])\n",
        "    model.summary()\n",
        "\n",
        "    training_start_time = time()\n",
        "    malstm_trained = model.fit([X_train['left'], X_train['right']], Y_train,\n",
        "                               batch_size=batch_size, epochs=n_epoch,\n",
        "                               validation_data=([X_validation['left'], X_validation['right']], Y_validation))\n",
        "    training_end_time = time()\n",
        "    print(\"Training time finished.\\n%d epochs in %12.2f\" % (n_epoch, training_end_time - training_start_time))"
      ],
      "metadata": {
        "id": "Me8wi2gGljNx",
        "colab": {
          "base_uri": "https://localhost:8080/"
        },
        "outputId": "ecb9e2e1-ef6b-4b71-87d6-1dbb5c0b1ed0"
      },
      "execution_count": 20,
      "outputs": [
        {
          "output_type": "stream",
          "name": "stdout",
          "text": [
            "Model: \"model\"\n",
            "__________________________________________________________________________________________________\n",
            " Layer (type)                   Output Shape         Param #     Connected to                     \n",
            "==================================================================================================\n",
            " input_1 (InputLayer)           [(None, 10)]         0           []                               \n",
            "                                                                                                  \n",
            " input_2 (InputLayer)           [(None, 10)]         0           []                               \n",
            "                                                                                                  \n",
            " embedding (Embedding)          (None, 10, 300)      3516600     ['input_1[0][0]']                \n",
            "                                                                                                  \n",
            " embedding_1 (Embedding)        (None, 10, 300)      3516600     ['input_2[0][0]']                \n",
            "                                                                                                  \n",
            " bidirectional (Bidirectional)  (None, 10, 200)      320800      ['embedding[0][0]']              \n",
            "                                                                                                  \n",
            " bidirectional_2 (Bidirectional  (None, 10, 200)     320800      ['embedding_1[0][0]']            \n",
            " )                                                                                                \n",
            "                                                                                                  \n",
            " bidirectional_1 (Bidirectional  (None, 10, 200)     240800      ['bidirectional[0][0]']          \n",
            " )                                                                                                \n",
            "                                                                                                  \n",
            " bidirectional_3 (Bidirectional  (None, 10, 200)     240800      ['bidirectional_2[0][0]']        \n",
            " )                                                                                                \n",
            "                                                                                                  \n",
            " dropout (Dropout)              (None, 10, 200)      0           ['bidirectional_1[0][0]']        \n",
            "                                                                                                  \n",
            " dropout_2 (Dropout)            (None, 10, 200)      0           ['bidirectional_3[0][0]']        \n",
            "                                                                                                  \n",
            " time_distributed (TimeDistribu  (None, 10, 1)       201         ['dropout[0][0]']                \n",
            " ted)                                                                                             \n",
            "                                                                                                  \n",
            " time_distributed_1 (TimeDistri  (None, 10, 1)       201         ['dropout_2[0][0]']              \n",
            " buted)                                                                                           \n",
            "                                                                                                  \n",
            " flatten (Flatten)              (None, 10)           0           ['time_distributed[0][0]']       \n",
            "                                                                                                  \n",
            " flatten_1 (Flatten)            (None, 10)           0           ['time_distributed_1[0][0]']     \n",
            "                                                                                                  \n",
            " activation (Activation)        (None, 10)           0           ['flatten[0][0]']                \n",
            "                                                                                                  \n",
            " activation_1 (Activation)      (None, 10)           0           ['flatten_1[0][0]']              \n",
            "                                                                                                  \n",
            " repeat_vector (RepeatVector)   (None, 200, 10)      0           ['activation[0][0]']             \n",
            "                                                                                                  \n",
            " repeat_vector_1 (RepeatVector)  (None, 200, 10)     0           ['activation_1[0][0]']           \n",
            "                                                                                                  \n",
            " permute (Permute)              (None, 10, 200)      0           ['repeat_vector[0][0]']          \n",
            "                                                                                                  \n",
            " permute_1 (Permute)            (None, 10, 200)      0           ['repeat_vector_1[0][0]']        \n",
            "                                                                                                  \n",
            " multiply (Multiply)            (None, 10, 200)      0           ['dropout[0][0]',                \n",
            "                                                                  'permute[0][0]']                \n",
            "                                                                                                  \n",
            " multiply_1 (Multiply)          (None, 10, 200)      0           ['dropout_2[0][0]',              \n",
            "                                                                  'permute_1[0][0]']              \n",
            "                                                                                                  \n",
            " lambda (Lambda)                (None, 200)          0           ['multiply[0][0]']               \n",
            "                                                                                                  \n",
            " lambda_1 (Lambda)              (None, 200)          0           ['multiply_1[0][0]']             \n",
            "                                                                                                  \n",
            " dropout_1 (Dropout)            (None, 200)          0           ['lambda[0][0]']                 \n",
            "                                                                                                  \n",
            " dropout_3 (Dropout)            (None, 200)          0           ['lambda_1[0][0]']               \n",
            "                                                                                                  \n",
            " man_dist (ManDist)             (None, 1)            0           ['dropout_1[0][0]',              \n",
            "                                                                  'dropout_3[0][0]']              \n",
            "                                                                                                  \n",
            " concatenate (Concatenate)      (None, 401)          0           ['dropout_1[0][0]',              \n",
            "                                                                  'dropout_3[0][0]',              \n",
            "                                                                  'man_dist[0][0]']               \n",
            "                                                                                                  \n",
            " dense_5 (Dense)                (None, 16)           6432        ['concatenate[0][0]']            \n",
            "                                                                                                  \n",
            " dense_4 (Dense)                (None, 4)            68          ['dense_5[0][0]']                \n",
            "                                                                                                  \n",
            " dense_3 (Dense)                (None, 2)            10          ['dense_4[0][0]']                \n",
            "                                                                                                  \n",
            " dense_2 (Dense)                (None, 1)            3           ['dense_3[0][0]']                \n",
            "                                                                                                  \n",
            "==================================================================================================\n",
            "Total params: 8,163,315\n",
            "Trainable params: 1,130,115\n",
            "Non-trainable params: 7,033,200\n",
            "__________________________________________________________________________________________________\n",
            "Epoch 1/6\n",
            "125/125 [==============================] - 20s 49ms/step - loss: 0.1922 - accuracy: 0.7101 - val_loss: 0.1681 - val_accuracy: 0.7580\n",
            "Epoch 2/6\n",
            "125/125 [==============================] - 3s 22ms/step - loss: 0.1244 - accuracy: 0.8340 - val_loss: 0.1580 - val_accuracy: 0.7775\n",
            "Epoch 3/6\n",
            "125/125 [==============================] - 3s 22ms/step - loss: 0.0773 - accuracy: 0.9026 - val_loss: 0.1524 - val_accuracy: 0.7975\n",
            "Epoch 4/6\n",
            "125/125 [==============================] - 3s 22ms/step - loss: 0.0489 - accuracy: 0.9386 - val_loss: 0.1531 - val_accuracy: 0.8110\n",
            "Epoch 5/6\n",
            "125/125 [==============================] - 3s 22ms/step - loss: 0.0322 - accuracy: 0.9615 - val_loss: 0.1567 - val_accuracy: 0.8170\n",
            "Epoch 6/6\n",
            "125/125 [==============================] - 3s 22ms/step - loss: 0.0280 - accuracy: 0.9674 - val_loss: 0.1574 - val_accuracy: 0.8135\n",
            "Training time finished.\n",
            "6 epochs in        34.19\n"
          ]
        }
      ]
    },
    {
      "cell_type": "code",
      "source": [
        "# Plot accuracy\n",
        "import matplotlib.pyplot as plt\n",
        "#plt.subplot(211)\n",
        "plt.plot(malstm_trained.history['accuracy'])\n",
        "plt.plot(malstm_trained.history['val_accuracy'])\n",
        "plt.title('Model Accuracy')\n",
        "plt.ylabel('Accuracy')\n",
        "plt.xlabel('Epoch')\n",
        "plt.legend(['Train', 'Validation'], loc='upper left')\n",
        "plt.show()\n",
        "\n",
        "# Plot loss\n",
        "#plt.subplot(212)\n",
        "plt.plot(malstm_trained.history['loss'])\n",
        "plt.plot(malstm_trained.history['val_loss'])\n",
        "plt.title('Model Loss')\n",
        "plt.ylabel('Loss')\n",
        "plt.xlabel('Epoch')\n",
        "plt.legend(['Train', 'Validation'], loc='upper right')\n",
        "plt.show()"
      ],
      "metadata": {
        "id": "ZTUMrUo-l0JW",
        "colab": {
          "base_uri": "https://localhost:8080/",
          "height": 573
        },
        "outputId": "2e2191cf-ad2c-41be-c19b-b80b08cc1ebd"
      },
      "execution_count": 21,
      "outputs": [
        {
          "output_type": "display_data",
          "data": {
            "image/png": "[encoded data removed]",
            "text/plain": [
              "<Figure size 432x288 with 1 Axes>"
            ]
          },
          "metadata": {
            "needs_background": "light"
          }
        },
        {
          "output_type": "display_data",
          "data": {
            "image/png": "[encoded data removed]",
            "text/plain": [
              "<Figure size 432x288 with 1 Axes>"
            ]
          },
          "metadata": {
            "needs_background": "light"
          }
        }
      ]
    }
  ]
}